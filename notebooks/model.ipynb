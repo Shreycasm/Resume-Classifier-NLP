{
 "cells": [
  {
   "cell_type": "code",
   "execution_count": 1,
   "id": "af1a3041",
   "metadata": {
    "ExecuteTime": {
     "end_time": "2024-07-02T12:36:06.398093Z",
     "start_time": "2024-07-02T12:35:50.773171Z"
    }
   },
   "outputs": [],
   "source": [
    "import nltk\n",
    "import pandas as pd\n",
    "import numpy as np\n",
    "import matplotlib.pyplot as plt\n",
    "import seaborn as sns\n",
    "import spacy\n",
    "import string"
   ]
  },
  {
   "cell_type": "code",
   "execution_count": 2,
   "id": "55d29829",
   "metadata": {
    "ExecuteTime": {
     "end_time": "2024-07-02T12:37:03.301602Z",
     "start_time": "2024-07-02T12:37:03.202943Z"
    }
   },
   "outputs": [],
   "source": [
    "df = pd.read_csv(\"../artifacts/extracted_files.csv\")"
   ]
  },
  {
   "cell_type": "code",
   "execution_count": 3,
   "id": "08edae89",
   "metadata": {
    "ExecuteTime": {
     "end_time": "2024-07-02T12:37:05.230784Z",
     "start_time": "2024-07-02T12:37:05.220498Z"
    }
   },
   "outputs": [],
   "source": [
    "import regex as re\n",
    "from nltk.corpus import stopwords"
   ]
  },
  {
   "cell_type": "code",
   "execution_count": 4,
   "id": "a1f21194",
   "metadata": {
    "ExecuteTime": {
     "end_time": "2024-07-02T12:37:06.932192Z",
     "start_time": "2024-07-02T12:37:06.053944Z"
    }
   },
   "outputs": [],
   "source": [
    "nlp = spacy.load('en_core_web_sm')"
   ]
  },
  {
   "cell_type": "code",
   "execution_count": 5,
   "id": "a802668c",
   "metadata": {
    "ExecuteTime": {
     "end_time": "2024-07-02T12:37:07.289719Z",
     "start_time": "2024-07-02T12:37:07.256869Z"
    }
   },
   "outputs": [
    {
     "data": {
      "text/html": [
       "<div>\n",
       "<style scoped>\n",
       "    .dataframe tbody tr th:only-of-type {\n",
       "        vertical-align: middle;\n",
       "    }\n",
       "\n",
       "    .dataframe tbody tr th {\n",
       "        vertical-align: top;\n",
       "    }\n",
       "\n",
       "    .dataframe thead th {\n",
       "        text-align: right;\n",
       "    }\n",
       "</style>\n",
       "<table border=\"1\" class=\"dataframe\">\n",
       "  <thead>\n",
       "    <tr style=\"text-align: right;\">\n",
       "      <th></th>\n",
       "      <th>Unnamed: 0</th>\n",
       "      <th>email</th>\n",
       "      <th>name</th>\n",
       "      <th>content</th>\n",
       "      <th>label</th>\n",
       "      <th>skills</th>\n",
       "    </tr>\n",
       "  </thead>\n",
       "  <tbody>\n",
       "    <tr>\n",
       "      <th>0</th>\n",
       "      <td>0</td>\n",
       "      <td>NaN</td>\n",
       "      <td>Anubhav Kumar Singh</td>\n",
       "      <td>Anubhav Kumar Singh\\t\\t\\r\\r  To work in a gl...</td>\n",
       "      <td>Peoplesoft Resume</td>\n",
       "      <td>['Electrical', 'Unix', 'Writing', 'Installatio...</td>\n",
       "    </tr>\n",
       "    <tr>\n",
       "      <th>1</th>\n",
       "      <td>1</td>\n",
       "      <td>NaN</td>\n",
       "      <td>G. Ananda</td>\n",
       "      <td>\\r\\r\\r\\r\\r\\r\\t\\r\\rProfile Summary:\\t\\t\\t\\t\\t\\t...</td>\n",
       "      <td>Peoplesoft Resume</td>\n",
       "      <td>['Unix', 'Installation', 'System', 'Testing', ...</td>\n",
       "    </tr>\n",
       "    <tr>\n",
       "      <th>2</th>\n",
       "      <td>2</td>\n",
       "      <td>NaN</td>\n",
       "      <td>PeopleSoft Database Administrator</td>\n",
       "      <td>PeopleSoft Database Administrator\\r           ...</td>\n",
       "      <td>Peoplesoft Resume</td>\n",
       "      <td>['Unix', 'Installation', 'System', 'Erp', 'Tes...</td>\n",
       "    </tr>\n",
       "    <tr>\n",
       "      <th>3</th>\n",
       "      <td>3</td>\n",
       "      <td>NaN</td>\n",
       "      <td>Classification: Internal</td>\n",
       "      <td>Murali\\r\\rExperience Summary \\r\\rI have 6 year...</td>\n",
       "      <td>Peoplesoft Resume</td>\n",
       "      <td>['Debugging', 'Unix', 'Installation', 'C', 'Sy...</td>\n",
       "    </tr>\n",
       "    <tr>\n",
       "      <th>4</th>\n",
       "      <td>4</td>\n",
       "      <td>NaN</td>\n",
       "      <td>Priyanka Ramadoss</td>\n",
       "      <td>Priyanka Ramadoss\\r61/46, MountPleasant, \\rCoo...</td>\n",
       "      <td>Peoplesoft Resume</td>\n",
       "      <td>['Unix', 'Installation', 'System', 'Banking', ...</td>\n",
       "    </tr>\n",
       "    <tr>\n",
       "      <th>...</th>\n",
       "      <td>...</td>\n",
       "      <td>...</td>\n",
       "      <td>...</td>\n",
       "      <td>...</td>\n",
       "      <td>...</td>\n",
       "      <td>...</td>\n",
       "    </tr>\n",
       "    <tr>\n",
       "      <th>73</th>\n",
       "      <td>73</td>\n",
       "      <td>NaN</td>\n",
       "      <td>Workday Integration</td>\n",
       "      <td>\\tWorkday Integration Consultant\\r\\rName      ...</td>\n",
       "      <td>workday</td>\n",
       "      <td>['Writing', 'Payroll', 'Agile', 'Vendors', 'Sy...</td>\n",
       "    </tr>\n",
       "    <tr>\n",
       "      <th>74</th>\n",
       "      <td>74</td>\n",
       "      <td>NaN</td>\n",
       "      <td>Srikanth (WORKDAY</td>\n",
       "      <td>Seeking suitable positions in Workday HCM  as ...</td>\n",
       "      <td>workday</td>\n",
       "      <td>['Writing', 'Payroll', 'System', 'Erp', 'Testi...</td>\n",
       "    </tr>\n",
       "    <tr>\n",
       "      <th>75</th>\n",
       "      <td>75</td>\n",
       "      <td>NaN</td>\n",
       "      <td>WORKDAY |</td>\n",
       "      <td>/\\rWORKDAY | HCM | FCM\\rName \\t\\t: Kumar S.S\\r...</td>\n",
       "      <td>workday</td>\n",
       "      <td>['Payroll', 'Vendors', 'System', 'Erp', 'Payme...</td>\n",
       "    </tr>\n",
       "    <tr>\n",
       "      <th>76</th>\n",
       "      <td>76</td>\n",
       "      <td>NaN</td>\n",
       "      <td>Venkateswarlu.B</td>\n",
       "      <td>Venkateswarlu.B\\t\\t\\t\\t\\t\\t\\t\\tWorkday Consult...</td>\n",
       "      <td>workday</td>\n",
       "      <td>['Writing', 'Payroll', 'Vendors', 'System', 'P...</td>\n",
       "    </tr>\n",
       "    <tr>\n",
       "      <th>77</th>\n",
       "      <td>77</td>\n",
       "      <td>NaN</td>\n",
       "      <td>Vinay kumar .v Workday</td>\n",
       "      <td>...</td>\n",
       "      <td>workday</td>\n",
       "      <td>['Writing', 'Payroll', 'Vendors', 'Powerpoint'...</td>\n",
       "    </tr>\n",
       "  </tbody>\n",
       "</table>\n",
       "<p>78 rows × 6 columns</p>\n",
       "</div>"
      ],
      "text/plain": [
       "    Unnamed: 0 email                               name  \\\n",
       "0            0   NaN                Anubhav Kumar Singh   \n",
       "1            1   NaN                          G. Ananda   \n",
       "2            2   NaN  PeopleSoft Database Administrator   \n",
       "3            3   NaN           Classification: Internal   \n",
       "4            4   NaN                  Priyanka Ramadoss   \n",
       "..         ...   ...                                ...   \n",
       "73          73   NaN                Workday Integration   \n",
       "74          74   NaN                  Srikanth (WORKDAY   \n",
       "75          75   NaN                          WORKDAY |   \n",
       "76          76   NaN                    Venkateswarlu.B   \n",
       "77          77   NaN             Vinay kumar .v Workday   \n",
       "\n",
       "                                              content              label  \\\n",
       "0     Anubhav Kumar Singh\\t\\t\\r\\r  To work in a gl...  Peoplesoft Resume   \n",
       "1   \\r\\r\\r\\r\\r\\r\\t\\r\\rProfile Summary:\\t\\t\\t\\t\\t\\t...  Peoplesoft Resume   \n",
       "2   PeopleSoft Database Administrator\\r           ...  Peoplesoft Resume   \n",
       "3   Murali\\r\\rExperience Summary \\r\\rI have 6 year...  Peoplesoft Resume   \n",
       "4   Priyanka Ramadoss\\r61/46, MountPleasant, \\rCoo...  Peoplesoft Resume   \n",
       "..                                                ...                ...   \n",
       "73  \\tWorkday Integration Consultant\\r\\rName      ...            workday   \n",
       "74  Seeking suitable positions in Workday HCM  as ...            workday   \n",
       "75  /\\rWORKDAY | HCM | FCM\\rName \\t\\t: Kumar S.S\\r...            workday   \n",
       "76  Venkateswarlu.B\\t\\t\\t\\t\\t\\t\\t\\tWorkday Consult...            workday   \n",
       "77                                                ...            workday   \n",
       "\n",
       "                                               skills  \n",
       "0   ['Electrical', 'Unix', 'Writing', 'Installatio...  \n",
       "1   ['Unix', 'Installation', 'System', 'Testing', ...  \n",
       "2   ['Unix', 'Installation', 'System', 'Erp', 'Tes...  \n",
       "3   ['Debugging', 'Unix', 'Installation', 'C', 'Sy...  \n",
       "4   ['Unix', 'Installation', 'System', 'Banking', ...  \n",
       "..                                                ...  \n",
       "73  ['Writing', 'Payroll', 'Agile', 'Vendors', 'Sy...  \n",
       "74  ['Writing', 'Payroll', 'System', 'Erp', 'Testi...  \n",
       "75  ['Payroll', 'Vendors', 'System', 'Erp', 'Payme...  \n",
       "76  ['Writing', 'Payroll', 'Vendors', 'System', 'P...  \n",
       "77  ['Writing', 'Payroll', 'Vendors', 'Powerpoint'...  \n",
       "\n",
       "[78 rows x 6 columns]"
      ]
     },
     "execution_count": 5,
     "metadata": {},
     "output_type": "execute_result"
    }
   ],
   "source": [
    "df"
   ]
  },
  {
   "cell_type": "code",
   "execution_count": 6,
   "id": "a0377613",
   "metadata": {
    "ExecuteTime": {
     "end_time": "2024-07-02T12:37:08.232149Z",
     "start_time": "2024-07-02T12:37:08.221853Z"
    }
   },
   "outputs": [],
   "source": [
    "from nltk.tokenize import word_tokenize\n",
    "from nltk.stem import PorterStemmer"
   ]
  },
  {
   "cell_type": "code",
   "execution_count": 7,
   "id": "ed23a6d1",
   "metadata": {
    "ExecuteTime": {
     "end_time": "2024-07-02T12:37:08.906164Z",
     "start_time": "2024-07-02T12:37:08.857854Z"
    }
   },
   "outputs": [],
   "source": [
    "stemmer = PorterStemmer()\n",
    "stop_words = set(stopwords.words('english'))\n"
   ]
  },
  {
   "cell_type": "code",
   "execution_count": 8,
   "id": "da5557f4",
   "metadata": {
    "ExecuteTime": {
     "end_time": "2024-07-02T12:37:09.841264Z",
     "start_time": "2024-07-02T12:37:09.823797Z"
    }
   },
   "outputs": [],
   "source": [
    "def preprocess_and_stem(text):\n",
    "    if text.startswith(\"b'\"):\n",
    "        text = text[2:]\n",
    "    cleaned_text = re.sub(r'[\\n\\t]', ' ', text)\n",
    "    cleaned_text = cleaned_text.replace('\\x07', '')\n",
    "    cleaned_text = re.sub(r'(\\\\n|\\\\t|\\\\x07|\\\\\\\\)', ' ', cleaned_text)\n",
    "    cleaned_text = re.sub(r'\\'b\\'|\\'\"', '', cleaned_text)\n",
    "    cleaned_text = re.sub(r'(\\\\x[0-9a-fA-F]{2}|\\\\xc7\\\\x81|\\\\xe2\\\\x80\\\\x99)', '', cleaned_text)\n",
    "    cleaned_text = re.sub(r'[\\uf0b7/]', ' ', cleaned_text)\n",
    "    cleaned_text = cleaned_text.translate(str.maketrans('', '', string.punctuation))\n",
    "    tokens = word_tokenize(cleaned_text)\n",
    "    filtered_tokens = [word for word in tokens if word not in stop_words]\n",
    "    stemmed_tokens = [stemmer.stem(token) for token in filtered_tokens]\n",
    "    stemmed_text = ' '.join(stemmed_tokens)\n",
    "    stemmed_text = stemmed_text.lower()\n",
    "\n",
    "    \n",
    "    return stemmed_text"
   ]
  },
  {
   "cell_type": "code",
   "execution_count": 9,
   "id": "a0108429",
   "metadata": {
    "ExecuteTime": {
     "end_time": "2024-07-02T12:37:12.721872Z",
     "start_time": "2024-07-02T12:37:11.769022Z"
    }
   },
   "outputs": [],
   "source": [
    "df[\"clean column\"] = df[\"content\"].apply(preprocess_and_stem)"
   ]
  },
  {
   "cell_type": "code",
   "execution_count": 10,
   "id": "cb1e68a3",
   "metadata": {
    "ExecuteTime": {
     "end_time": "2024-07-02T12:37:13.323097Z",
     "start_time": "2024-07-02T12:37:13.311567Z"
    }
   },
   "outputs": [
    {
     "data": {
      "text/plain": [
       "0     anubhav kumar singh to work global competit en...\n",
       "1     profil summari 7 year experi implement upgrad ...\n",
       "2     peoplesoft databas administr gangareddi profes...\n",
       "3     murali experi summari i 6 year experi work peo...\n",
       "4     priyanka ramadoss 61 46 mountpleas coonoor the...\n",
       "                            ...                        \n",
       "73    workday integr consult name sri krishna s prof...\n",
       "74    seek suitabl posit workday hcm techno function...\n",
       "75    workday hcm fcm name kumar ss role workday con...\n",
       "76    venkateswarlub workday consult have 53 year ex...\n",
       "77    vinay kumar v workday function consult experti...\n",
       "Name: clean column, Length: 78, dtype: object"
      ]
     },
     "execution_count": 10,
     "metadata": {},
     "output_type": "execute_result"
    }
   ],
   "source": [
    "df[\"clean column\"]"
   ]
  },
  {
   "cell_type": "code",
   "execution_count": 11,
   "id": "11d2596c",
   "metadata": {
    "ExecuteTime": {
     "end_time": "2024-07-02T12:37:14.051302Z",
     "start_time": "2024-07-02T12:37:14.042943Z"
    }
   },
   "outputs": [],
   "source": [
    "from sklearn.preprocessing import LabelEncoder"
   ]
  },
  {
   "cell_type": "code",
   "execution_count": 12,
   "id": "cf1b4902",
   "metadata": {
    "ExecuteTime": {
     "end_time": "2024-07-02T12:37:14.743347Z",
     "start_time": "2024-07-02T12:37:14.727866Z"
    }
   },
   "outputs": [],
   "source": [
    "le = LabelEncoder()\n",
    "df[\"label\"] = le.fit_transform(df[\"label\"])"
   ]
  },
  {
   "cell_type": "code",
   "execution_count": 13,
   "id": "800c37cb",
   "metadata": {
    "ExecuteTime": {
     "end_time": "2024-07-02T12:37:15.353608Z",
     "start_time": "2024-07-02T12:37:15.348077Z"
    }
   },
   "outputs": [],
   "source": [
    "from sklearn.feature_extraction.text import CountVectorizer, TfidfVectorizer"
   ]
  },
  {
   "cell_type": "code",
   "execution_count": 14,
   "id": "d1560202",
   "metadata": {
    "ExecuteTime": {
     "end_time": "2024-07-02T12:37:16.104527Z",
     "start_time": "2024-07-02T12:37:15.933187Z"
    }
   },
   "outputs": [
    {
     "data": {
      "text/plain": [
       "(78, 3948)"
      ]
     },
     "execution_count": 14,
     "metadata": {},
     "output_type": "execute_result"
    }
   ],
   "source": [
    "cv = CountVectorizer()\n",
    "cv.fit_transform(df[\"clean column\"]).toarray().shape"
   ]
  },
  {
   "cell_type": "code",
   "execution_count": 15,
   "id": "887bca93",
   "metadata": {
    "ExecuteTime": {
     "end_time": "2024-07-02T12:37:16.636758Z",
     "start_time": "2024-07-02T12:37:16.621031Z"
    }
   },
   "outputs": [
    {
     "data": {
      "text/plain": [
       "3948"
      ]
     },
     "execution_count": 15,
     "metadata": {},
     "output_type": "execute_result"
    }
   ],
   "source": [
    "len(cv.vocabulary_)"
   ]
  },
  {
   "cell_type": "code",
   "execution_count": 16,
   "id": "78da3e23",
   "metadata": {
    "ExecuteTime": {
     "end_time": "2024-07-02T12:37:27.302912Z",
     "start_time": "2024-07-02T12:37:17.205695Z"
    }
   },
   "outputs": [],
   "source": [
    "from sklearn.pipeline import Pipeline\n",
    "from sklearn.model_selection import train_test_split\n",
    "from sklearn.feature_extraction.text import CountVectorizer, TfidfVectorizer\n",
    "from sklearn.naive_bayes import MultinomialNB, BernoulliNB, CategoricalNB\n",
    "from sklearn.linear_model import LogisticRegression\n",
    "from sklearn.svm import SVC\n",
    "from sklearn.ensemble import RandomForestClassifier, AdaBoostClassifier\n",
    "from sklearn.neighbors import KNeighborsClassifier\n",
    "from xgboost import XGBClassifier\n",
    "from catboost import CatBoostClassifier\n",
    "from sklearn.metrics import accuracy_score, precision_score, recall_score ,classification_report"
   ]
  },
  {
   "cell_type": "code",
   "execution_count": 17,
   "id": "5f4245d0",
   "metadata": {
    "ExecuteTime": {
     "end_time": "2024-07-02T12:37:28.674605Z",
     "start_time": "2024-07-02T12:37:28.622348Z"
    }
   },
   "outputs": [],
   "source": [
    "X_train , X_test , y_train, y_test = train_test_split(df[\"clean column\"], df['label'], test_size=0.2, random_state=0)"
   ]
  },
  {
   "cell_type": "code",
   "execution_count": 18,
   "id": "26231ac8",
   "metadata": {
    "ExecuteTime": {
     "end_time": "2024-07-02T12:37:29.385838Z",
     "start_time": "2024-07-02T12:37:29.370622Z"
    },
    "code_folding": []
   },
   "outputs": [],
   "source": [
    " models = {\n",
    "        'Naive Bayes Multinomial': MultinomialNB(),\n",
    "        'Naive Bayes Binomial': BernoulliNB(),\n",
    "        'Logistic Regression': LogisticRegression(max_iter=1000),\n",
    "        'SVM': SVC(kernel='linear'),\n",
    "        'Random Forest': RandomForestClassifier(n_estimators=100),\n",
    "        'AdaBoost': AdaBoostClassifier(),\n",
    "        'KNN': KNeighborsClassifier(n_neighbors=5),\n",
    "        'XGBoost': XGBClassifier(),\n",
    "        'CatBoost': CatBoostClassifier(verbose=0)\n",
    "    }"
   ]
  },
  {
   "cell_type": "code",
   "execution_count": 19,
   "id": "3f77fb59",
   "metadata": {
    "ExecuteTime": {
     "end_time": "2024-07-02T12:37:30.923112Z",
     "start_time": "2024-07-02T12:37:30.895942Z"
    }
   },
   "outputs": [],
   "source": [
    "def text_classifier(X_train, X_test, y_train, y_test, models):  \n",
    "    \n",
    "    vectorizers = {\n",
    "        'CountVectorizer 1-gram': CountVectorizer(ngram_range=(1, 1)),\n",
    "        'CountVectorizer 2-gram': CountVectorizer(ngram_range=(1, 2)),\n",
    "        'CountVectorizer 3-gram': CountVectorizer(ngram_range=(1, 3)),\n",
    "        'TF-IDF 1-gram': TfidfVectorizer(ngram_range=(1, 1)),\n",
    "        'TF-IDF 2-gram': TfidfVectorizer(ngram_range=(1, 2)),\n",
    "        'TF-IDF 3-gram': TfidfVectorizer(ngram_range=(1, 3))\n",
    "    }\n",
    "    \n",
    "    results = {}\n",
    "    \n",
    "    \n",
    "    for model_name, model in models.items():\n",
    "        for vectorizer_name, vectorizer in vectorizers.items():\n",
    "            \n",
    "            pipeline = Pipeline([\n",
    "                ('vectorizer', vectorizer),\n",
    "                ('classifier', model)\n",
    "            ])\n",
    "            \n",
    "            pipeline.fit(X_train, y_train)\n",
    "            \n",
    "            y_pred = pipeline.predict(X_test)\n",
    "            y_pred_train = pipeline.predict(X_train)\n",
    "            \n",
    "            accuracy_test = accuracy_score(y_test, y_pred)\n",
    "            precision_test = precision_score(y_test, y_pred, average='weighted', zero_division=1)\n",
    "            recall_test = recall_score(y_test, y_pred, average='weighted')\n",
    "            \n",
    "            accuracy_train = accuracy_score(y_train, y_pred_train)\n",
    "            precision_train = precision_score(y_train, y_pred_train, average='weighted', zero_division=1)\n",
    "            recall_train = recall_score(y_train, y_pred_train, average='weighted')\n",
    "            \n",
    "            parameters = model.get_params()\n",
    "            \n",
    "            results[f'{model_name} - {vectorizer_name}'] = {\n",
    "                'Accuracy Test': accuracy_test,\n",
    "                'Precision Test': precision_test,\n",
    "                'Recall Test': recall_test,\n",
    "                'Accuracy Train': accuracy_train,\n",
    "                'Precision Train': precision_train,\n",
    "                'Recall Train': recall_train,\n",
    "                'Model Params': parameters\n",
    "            }\n",
    "            \n",
    "    results_df = pd.DataFrame(results).T\n",
    "            \n",
    "    return results_df\n",
    "\n"
   ]
  },
  {
   "cell_type": "code",
   "execution_count": null,
   "id": "954bdf16",
   "metadata": {
    "ExecuteTime": {
     "end_time": "2024-07-02T12:56:04.282190Z",
     "start_time": "2024-07-02T12:55:48.352362Z"
    }
   },
   "outputs": [],
   "source": [
    "text_classifier(X_train, X_test, y_train, y_test, models=models)"
   ]
  },
  {
   "cell_type": "code",
   "execution_count": 20,
   "id": "f457ba82",
   "metadata": {
    "ExecuteTime": {
     "end_time": "2024-07-02T12:55:26.330405Z",
     "start_time": "2024-07-02T12:55:26.320535Z"
    }
   },
   "outputs": [],
   "source": [
    "from sklearn.model_selection import GridSearchCV"
   ]
  },
  {
   "cell_type": "code",
   "execution_count": 21,
   "id": "797842cc",
   "metadata": {
    "ExecuteTime": {
     "end_time": "2024-07-02T12:55:33.767996Z",
     "start_time": "2024-07-02T12:55:33.744775Z"
    }
   },
   "outputs": [],
   "source": [
    "pipeline = Pipeline([\n",
    "    ('vectorizer', CountVectorizer(ngram_range=(1, 1))),\n",
    "    ('classifier', MultinomialNB())\n",
    "])\n",
    "\n",
    "param_grid = {\n",
    "    'vectorizer__max_features': [1000, 2000, 3000,4000],  \n",
    "    'vectorizer__ngram_range': [(1, 1), (1, 2), (1, 3)],\n",
    "    'classifier__alpha': [0.1, 0.5, 1.0],\n",
    "}"
   ]
  },
  {
   "cell_type": "code",
   "execution_count": 32,
   "id": "425cfae5",
   "metadata": {
    "ExecuteTime": {
     "end_time": "2024-07-02T12:55:46.458525Z",
     "start_time": "2024-07-02T12:55:34.394079Z"
    }
   },
   "outputs": [
    {
     "name": "stdout",
     "output_type": "stream",
     "text": [
      "Fitting 8 folds for each of 36 candidates, totalling 288 fits\n"
     ]
    },
    {
     "ename": "BrokenProcessPool",
     "evalue": "A task has failed to un-serialize. Please ensure that the arguments of the function are all picklable.",
     "output_type": "error",
     "traceback": [
      "\u001b[1;31m---------------------------------------------------------------------------\u001b[0m",
      "\u001b[1;31m_RemoteTraceback\u001b[0m                          Traceback (most recent call last)",
      "\u001b[1;31m_RemoteTraceback\u001b[0m: \n\"\"\"\nTraceback (most recent call last):\n  File \"C:\\Users\\shrey\\AppData\\Local\\anaconda3\\envs\\nlp\\lib\\site-packages\\joblib\\externals\\loky\\process_executor.py\", line 426, in _process_worker\n    call_item = call_queue.get(block=True, timeout=timeout)\n  File \"C:\\Users\\shrey\\AppData\\Local\\anaconda3\\envs\\nlp\\lib\\multiprocessing\\queues.py\", line 122, in get\n    return _ForkingPickler.loads(res)\nAttributeError: Can't get attribute '_PredictScorer' on <module 'sklearn.metrics._scorer' from 'C:\\\\Users\\\\shrey\\\\AppData\\\\Local\\\\anaconda3\\\\envs\\\\nlp\\\\lib\\\\site-packages\\\\sklearn\\\\metrics\\\\_scorer.py'>\n\"\"\"",
      "\nThe above exception was the direct cause of the following exception:\n",
      "\u001b[1;31mBrokenProcessPool\u001b[0m                         Traceback (most recent call last)",
      "Cell \u001b[1;32mIn[32], line 2\u001b[0m\n\u001b[0;32m      1\u001b[0m grid_search \u001b[38;5;241m=\u001b[39m GridSearchCV(pipeline, param_grid, cv\u001b[38;5;241m=\u001b[39m\u001b[38;5;241m8\u001b[39m, verbose\u001b[38;5;241m=\u001b[39m\u001b[38;5;241m1\u001b[39m, n_jobs\u001b[38;5;241m=\u001b[39m\u001b[38;5;241m-\u001b[39m\u001b[38;5;241m1\u001b[39m, scoring\u001b[38;5;241m=\u001b[39m\u001b[38;5;124m'\u001b[39m\u001b[38;5;124mprecision_macro\u001b[39m\u001b[38;5;124m'\u001b[39m)\n\u001b[1;32m----> 2\u001b[0m \u001b[43mgrid_search\u001b[49m\u001b[38;5;241;43m.\u001b[39;49m\u001b[43mfit\u001b[49m\u001b[43m(\u001b[49m\u001b[43mX_train\u001b[49m\u001b[43m,\u001b[49m\u001b[43m \u001b[49m\u001b[43my_train\u001b[49m\u001b[43m)\u001b[49m\n",
      "File \u001b[1;32m~\\AppData\\Local\\anaconda3\\envs\\nlp\\lib\\site-packages\\sklearn\\base.py:1151\u001b[0m, in \u001b[0;36mwrapper\u001b[1;34m(estimator, *args, **kwargs)\u001b[0m\n\u001b[0;32m   1147\u001b[0m \u001b[38;5;28;01mclass\u001b[39;00m \u001b[38;5;21;01mClassNamePrefixFeaturesOutMixin\u001b[39;00m:\n\u001b[0;32m   1148\u001b[0m \u001b[38;5;250m    \u001b[39m\u001b[38;5;124;03m\"\"\"Mixin class for transformers that generate their own names by prefixing.\u001b[39;00m\n\u001b[0;32m   1149\u001b[0m \n\u001b[0;32m   1150\u001b[0m \u001b[38;5;124;03m    This mixin is useful when the transformer needs to generate its own feature\u001b[39;00m\n\u001b[1;32m-> 1151\u001b[0m \u001b[38;5;124;03m    names out, such as :class:`~sklearn.decomposition.PCA`. For example, if\u001b[39;00m\n\u001b[0;32m   1152\u001b[0m \u001b[38;5;124;03m    :class:`~sklearn.decomposition.PCA` outputs 3 features, then the generated feature\u001b[39;00m\n\u001b[0;32m   1153\u001b[0m \u001b[38;5;124;03m    names out are: `[\"pca0\", \"pca1\", \"pca2\"]`.\u001b[39;00m\n\u001b[0;32m   1154\u001b[0m \n\u001b[0;32m   1155\u001b[0m \u001b[38;5;124;03m    This mixin assumes that a `_n_features_out` attribute is defined when the\u001b[39;00m\n\u001b[0;32m   1156\u001b[0m \u001b[38;5;124;03m    transformer is fitted. `_n_features_out` is the number of output features\u001b[39;00m\n\u001b[0;32m   1157\u001b[0m \u001b[38;5;124;03m    that the transformer will return in `transform` of `fit_transform`.\u001b[39;00m\n\u001b[0;32m   1158\u001b[0m \n\u001b[0;32m   1159\u001b[0m \u001b[38;5;124;03m    Examples\u001b[39;00m\n\u001b[0;32m   1160\u001b[0m \u001b[38;5;124;03m    --------\u001b[39;00m\n\u001b[0;32m   1161\u001b[0m \u001b[38;5;124;03m    >>> import numpy as np\u001b[39;00m\n\u001b[0;32m   1162\u001b[0m \u001b[38;5;124;03m    >>> from sklearn.base import ClassNamePrefixFeaturesOutMixin\u001b[39;00m\n\u001b[0;32m   1163\u001b[0m \u001b[38;5;124;03m    >>> class MyEstimator(ClassNamePrefixFeaturesOutMixin):\u001b[39;00m\n\u001b[0;32m   1164\u001b[0m \u001b[38;5;124;03m    ...     def fit(self, X, y=None):\u001b[39;00m\n\u001b[0;32m   1165\u001b[0m \u001b[38;5;124;03m    ...         self._n_features_out = X.shape[1]\u001b[39;00m\n\u001b[0;32m   1166\u001b[0m \u001b[38;5;124;03m    ...         return self\u001b[39;00m\n\u001b[0;32m   1167\u001b[0m \u001b[38;5;124;03m    >>> X = np.array([[1, 2], [3, 4]])\u001b[39;00m\n\u001b[0;32m   1168\u001b[0m \u001b[38;5;124;03m    >>> MyEstimator().fit(X).get_feature_names_out()\u001b[39;00m\n\u001b[0;32m   1169\u001b[0m \u001b[38;5;124;03m    array(['myestimator0', 'myestimator1'], dtype=object)\u001b[39;00m\n\u001b[0;32m   1170\u001b[0m \u001b[38;5;124;03m    \"\"\"\u001b[39;00m\n\u001b[0;32m   1172\u001b[0m     \u001b[38;5;28;01mdef\u001b[39;00m \u001b[38;5;21mget_feature_names_out\u001b[39m(\u001b[38;5;28mself\u001b[39m, input_features\u001b[38;5;241m=\u001b[39m\u001b[38;5;28;01mNone\u001b[39;00m):\n\u001b[0;32m   1173\u001b[0m \u001b[38;5;250m        \u001b[39m\u001b[38;5;124;03m\"\"\"Get output feature names for transformation.\u001b[39;00m\n\u001b[0;32m   1174\u001b[0m \n\u001b[0;32m   1175\u001b[0m \u001b[38;5;124;03m        The feature names out will prefixed by the lowercased class name. For\u001b[39;00m\n\u001b[1;32m   (...)\u001b[0m\n\u001b[0;32m   1187\u001b[0m \u001b[38;5;124;03m            Transformed feature names.\u001b[39;00m\n\u001b[0;32m   1188\u001b[0m \u001b[38;5;124;03m        \"\"\"\u001b[39;00m\n",
      "File \u001b[1;32m~\\AppData\\Local\\anaconda3\\envs\\nlp\\lib\\site-packages\\sklearn\\model_selection\\_search.py:898\u001b[0m, in \u001b[0;36mfit\u001b[1;34m(self, X, y, groups, **fit_params)\u001b[0m\n\u001b[0;32m    896\u001b[0m \u001b[38;5;28;01mwith\u001b[39;00m parallel:\n\u001b[0;32m    897\u001b[0m     all_candidate_params \u001b[38;5;241m=\u001b[39m []\n\u001b[1;32m--> 898\u001b[0m     all_out \u001b[38;5;241m=\u001b[39m []\n\u001b[0;32m    899\u001b[0m     all_more_results \u001b[38;5;241m=\u001b[39m defaultdict(\u001b[38;5;28mlist\u001b[39m)\n\u001b[0;32m    901\u001b[0m     \u001b[38;5;28;01mdef\u001b[39;00m \u001b[38;5;21mevaluate_candidates\u001b[39m(candidate_params, cv\u001b[38;5;241m=\u001b[39m\u001b[38;5;28;01mNone\u001b[39;00m, more_results\u001b[38;5;241m=\u001b[39m\u001b[38;5;28;01mNone\u001b[39;00m):\n",
      "File \u001b[1;32m~\\AppData\\Local\\anaconda3\\envs\\nlp\\lib\\site-packages\\sklearn\\model_selection\\_search.py:1419\u001b[0m, in \u001b[0;36m_run_search\u001b[1;34m(self, evaluate_candidates)\u001b[0m\n\u001b[0;32m   1180\u001b[0m \u001b[38;5;28;01mclass\u001b[39;00m \u001b[38;5;21;01mGridSearchCV\u001b[39;00m(BaseSearchCV):\n\u001b[0;32m   1181\u001b[0m \u001b[38;5;250m    \u001b[39m\u001b[38;5;124;03m\"\"\"Exhaustive search over specified parameter values for an estimator.\u001b[39;00m\n\u001b[0;32m   1182\u001b[0m \n\u001b[0;32m   1183\u001b[0m \u001b[38;5;124;03m    Important members are fit, predict.\u001b[39;00m\n\u001b[0;32m   1184\u001b[0m \n\u001b[0;32m   1185\u001b[0m \u001b[38;5;124;03m    GridSearchCV implements a \"fit\" and a \"score\" method.\u001b[39;00m\n\u001b[0;32m   1186\u001b[0m \u001b[38;5;124;03m    It also implements \"score_samples\", \"predict\", \"predict_proba\",\u001b[39;00m\n\u001b[0;32m   1187\u001b[0m \u001b[38;5;124;03m    \"decision_function\", \"transform\" and \"inverse_transform\" if they are\u001b[39;00m\n\u001b[0;32m   1188\u001b[0m \u001b[38;5;124;03m    implemented in the estimator used.\u001b[39;00m\n\u001b[0;32m   1189\u001b[0m \n\u001b[0;32m   1190\u001b[0m \u001b[38;5;124;03m    The parameters of the estimator used to apply these methods are optimized\u001b[39;00m\n\u001b[0;32m   1191\u001b[0m \u001b[38;5;124;03m    by cross-validated grid-search over a parameter grid.\u001b[39;00m\n\u001b[0;32m   1192\u001b[0m \n\u001b[0;32m   1193\u001b[0m \u001b[38;5;124;03m    Read more in the :ref:`User Guide <grid_search>`.\u001b[39;00m\n\u001b[0;32m   1194\u001b[0m \n\u001b[0;32m   1195\u001b[0m \u001b[38;5;124;03m    Parameters\u001b[39;00m\n\u001b[0;32m   1196\u001b[0m \u001b[38;5;124;03m    ----------\u001b[39;00m\n\u001b[0;32m   1197\u001b[0m \u001b[38;5;124;03m    estimator : estimator object\u001b[39;00m\n\u001b[0;32m   1198\u001b[0m \u001b[38;5;124;03m        This is assumed to implement the scikit-learn estimator interface.\u001b[39;00m\n\u001b[0;32m   1199\u001b[0m \u001b[38;5;124;03m        Either estimator needs to provide a ``score`` function,\u001b[39;00m\n\u001b[0;32m   1200\u001b[0m \u001b[38;5;124;03m        or ``scoring`` must be passed.\u001b[39;00m\n\u001b[0;32m   1201\u001b[0m \n\u001b[0;32m   1202\u001b[0m \u001b[38;5;124;03m    param_grid : dict or list of dictionaries\u001b[39;00m\n\u001b[0;32m   1203\u001b[0m \u001b[38;5;124;03m        Dictionary with parameters names (`str`) as keys and lists of\u001b[39;00m\n\u001b[0;32m   1204\u001b[0m \u001b[38;5;124;03m        parameter settings to try as values, or a list of such\u001b[39;00m\n\u001b[0;32m   1205\u001b[0m \u001b[38;5;124;03m        dictionaries, in which case the grids spanned by each dictionary\u001b[39;00m\n\u001b[0;32m   1206\u001b[0m \u001b[38;5;124;03m        in the list are explored. This enables searching over any sequence\u001b[39;00m\n\u001b[0;32m   1207\u001b[0m \u001b[38;5;124;03m        of parameter settings.\u001b[39;00m\n\u001b[0;32m   1208\u001b[0m \n\u001b[0;32m   1209\u001b[0m \u001b[38;5;124;03m    scoring : str, callable, list, tuple or dict, default=None\u001b[39;00m\n\u001b[0;32m   1210\u001b[0m \u001b[38;5;124;03m        Strategy to evaluate the performance of the cross-validated model on\u001b[39;00m\n\u001b[0;32m   1211\u001b[0m \u001b[38;5;124;03m        the test set.\u001b[39;00m\n\u001b[0;32m   1212\u001b[0m \n\u001b[0;32m   1213\u001b[0m \u001b[38;5;124;03m        If `scoring` represents a single score, one can use:\u001b[39;00m\n\u001b[0;32m   1214\u001b[0m \n\u001b[0;32m   1215\u001b[0m \u001b[38;5;124;03m        - a single string (see :ref:`scoring_parameter`);\u001b[39;00m\n\u001b[0;32m   1216\u001b[0m \u001b[38;5;124;03m        - a callable (see :ref:`scoring`) that returns a single value.\u001b[39;00m\n\u001b[0;32m   1217\u001b[0m \n\u001b[0;32m   1218\u001b[0m \u001b[38;5;124;03m        If `scoring` represents multiple scores, one can use:\u001b[39;00m\n\u001b[0;32m   1219\u001b[0m \n\u001b[0;32m   1220\u001b[0m \u001b[38;5;124;03m        - a list or tuple of unique strings;\u001b[39;00m\n\u001b[0;32m   1221\u001b[0m \u001b[38;5;124;03m        - a callable returning a dictionary where the keys are the metric\u001b[39;00m\n\u001b[0;32m   1222\u001b[0m \u001b[38;5;124;03m          names and the values are the metric scores;\u001b[39;00m\n\u001b[0;32m   1223\u001b[0m \u001b[38;5;124;03m        - a dictionary with metric names as keys and callables a values.\u001b[39;00m\n\u001b[0;32m   1224\u001b[0m \n\u001b[0;32m   1225\u001b[0m \u001b[38;5;124;03m        See :ref:`multimetric_grid_search` for an example.\u001b[39;00m\n\u001b[0;32m   1226\u001b[0m \n\u001b[0;32m   1227\u001b[0m \u001b[38;5;124;03m    n_jobs : int, default=None\u001b[39;00m\n\u001b[0;32m   1228\u001b[0m \u001b[38;5;124;03m        Number of jobs to run in parallel.\u001b[39;00m\n\u001b[0;32m   1229\u001b[0m \u001b[38;5;124;03m        ``None`` means 1 unless in a :obj:`joblib.parallel_backend` context.\u001b[39;00m\n\u001b[0;32m   1230\u001b[0m \u001b[38;5;124;03m        ``-1`` means using all processors. See :term:`Glossary <n_jobs>`\u001b[39;00m\n\u001b[0;32m   1231\u001b[0m \u001b[38;5;124;03m        for more details.\u001b[39;00m\n\u001b[0;32m   1232\u001b[0m \n\u001b[0;32m   1233\u001b[0m \u001b[38;5;124;03m        .. versionchanged:: v0.20\u001b[39;00m\n\u001b[0;32m   1234\u001b[0m \u001b[38;5;124;03m           `n_jobs` default changed from 1 to None\u001b[39;00m\n\u001b[0;32m   1235\u001b[0m \n\u001b[0;32m   1236\u001b[0m \u001b[38;5;124;03m    refit : bool, str, or callable, default=True\u001b[39;00m\n\u001b[0;32m   1237\u001b[0m \u001b[38;5;124;03m        Refit an estimator using the best found parameters on the whole\u001b[39;00m\n\u001b[0;32m   1238\u001b[0m \u001b[38;5;124;03m        dataset.\u001b[39;00m\n\u001b[0;32m   1239\u001b[0m \n\u001b[0;32m   1240\u001b[0m \u001b[38;5;124;03m        For multiple metric evaluation, this needs to be a `str` denoting the\u001b[39;00m\n\u001b[0;32m   1241\u001b[0m \u001b[38;5;124;03m        scorer that would be used to find the best parameters for refitting\u001b[39;00m\n\u001b[0;32m   1242\u001b[0m \u001b[38;5;124;03m        the estimator at the end.\u001b[39;00m\n\u001b[0;32m   1243\u001b[0m \n\u001b[0;32m   1244\u001b[0m \u001b[38;5;124;03m        Where there are considerations other than maximum score in\u001b[39;00m\n\u001b[0;32m   1245\u001b[0m \u001b[38;5;124;03m        choosing a best estimator, ``refit`` can be set to a function which\u001b[39;00m\n\u001b[0;32m   1246\u001b[0m \u001b[38;5;124;03m        returns the selected ``best_index_`` given ``cv_results_``. In that\u001b[39;00m\n\u001b[0;32m   1247\u001b[0m \u001b[38;5;124;03m        case, the ``best_estimator_`` and ``best_params_`` will be set\u001b[39;00m\n\u001b[0;32m   1248\u001b[0m \u001b[38;5;124;03m        according to the returned ``best_index_`` while the ``best_score_``\u001b[39;00m\n\u001b[0;32m   1249\u001b[0m \u001b[38;5;124;03m        attribute will not be available.\u001b[39;00m\n\u001b[0;32m   1250\u001b[0m \n\u001b[0;32m   1251\u001b[0m \u001b[38;5;124;03m        The refitted estimator is made available at the ``best_estimator_``\u001b[39;00m\n\u001b[0;32m   1252\u001b[0m \u001b[38;5;124;03m        attribute and permits using ``predict`` directly on this\u001b[39;00m\n\u001b[0;32m   1253\u001b[0m \u001b[38;5;124;03m        ``GridSearchCV`` instance.\u001b[39;00m\n\u001b[0;32m   1254\u001b[0m \n\u001b[0;32m   1255\u001b[0m \u001b[38;5;124;03m        Also for multiple metric evaluation, the attributes ``best_index_``,\u001b[39;00m\n\u001b[0;32m   1256\u001b[0m \u001b[38;5;124;03m        ``best_score_`` and ``best_params_`` will only be available if\u001b[39;00m\n\u001b[0;32m   1257\u001b[0m \u001b[38;5;124;03m        ``refit`` is set and all of them will be determined w.r.t this specific\u001b[39;00m\n\u001b[0;32m   1258\u001b[0m \u001b[38;5;124;03m        scorer.\u001b[39;00m\n\u001b[0;32m   1259\u001b[0m \n\u001b[0;32m   1260\u001b[0m \u001b[38;5;124;03m        See ``scoring`` parameter to know more about multiple metric\u001b[39;00m\n\u001b[0;32m   1261\u001b[0m \u001b[38;5;124;03m        evaluation.\u001b[39;00m\n\u001b[0;32m   1262\u001b[0m \n\u001b[0;32m   1263\u001b[0m \u001b[38;5;124;03m        See :ref:`sphx_glr_auto_examples_model_selection_plot_grid_search_digits.py`\u001b[39;00m\n\u001b[0;32m   1264\u001b[0m \u001b[38;5;124;03m        to see how to design a custom selection strategy using a callable\u001b[39;00m\n\u001b[0;32m   1265\u001b[0m \u001b[38;5;124;03m        via `refit`.\u001b[39;00m\n\u001b[0;32m   1266\u001b[0m \n\u001b[0;32m   1267\u001b[0m \u001b[38;5;124;03m        .. versionchanged:: 0.20\u001b[39;00m\n\u001b[0;32m   1268\u001b[0m \u001b[38;5;124;03m            Support for callable added.\u001b[39;00m\n\u001b[0;32m   1269\u001b[0m \n\u001b[0;32m   1270\u001b[0m \u001b[38;5;124;03m    cv : int, cross-validation generator or an iterable, default=None\u001b[39;00m\n\u001b[0;32m   1271\u001b[0m \u001b[38;5;124;03m        Determines the cross-validation splitting strategy.\u001b[39;00m\n\u001b[0;32m   1272\u001b[0m \u001b[38;5;124;03m        Possible inputs for cv are:\u001b[39;00m\n\u001b[0;32m   1273\u001b[0m \n\u001b[0;32m   1274\u001b[0m \u001b[38;5;124;03m        - None, to use the default 5-fold cross validation,\u001b[39;00m\n\u001b[0;32m   1275\u001b[0m \u001b[38;5;124;03m        - integer, to specify the number of folds in a `(Stratified)KFold`,\u001b[39;00m\n\u001b[0;32m   1276\u001b[0m \u001b[38;5;124;03m        - :term:`CV splitter`,\u001b[39;00m\n\u001b[0;32m   1277\u001b[0m \u001b[38;5;124;03m        - An iterable yielding (train, test) splits as arrays of indices.\u001b[39;00m\n\u001b[0;32m   1278\u001b[0m \n\u001b[0;32m   1279\u001b[0m \u001b[38;5;124;03m        For integer/None inputs, if the estimator is a classifier and ``y`` is\u001b[39;00m\n\u001b[0;32m   1280\u001b[0m \u001b[38;5;124;03m        either binary or multiclass, :class:`StratifiedKFold` is used. In all\u001b[39;00m\n\u001b[0;32m   1281\u001b[0m \u001b[38;5;124;03m        other cases, :class:`KFold` is used. These splitters are instantiated\u001b[39;00m\n\u001b[0;32m   1282\u001b[0m \u001b[38;5;124;03m        with `shuffle=False` so the splits will be the same across calls.\u001b[39;00m\n\u001b[0;32m   1283\u001b[0m \n\u001b[0;32m   1284\u001b[0m \u001b[38;5;124;03m        Refer :ref:`User Guide <cross_validation>` for the various\u001b[39;00m\n\u001b[0;32m   1285\u001b[0m \u001b[38;5;124;03m        cross-validation strategies that can be used here.\u001b[39;00m\n\u001b[0;32m   1286\u001b[0m \n\u001b[0;32m   1287\u001b[0m \u001b[38;5;124;03m        .. versionchanged:: 0.22\u001b[39;00m\n\u001b[0;32m   1288\u001b[0m \u001b[38;5;124;03m            ``cv`` default value if None changed from 3-fold to 5-fold.\u001b[39;00m\n\u001b[0;32m   1289\u001b[0m \n\u001b[0;32m   1290\u001b[0m \u001b[38;5;124;03m    verbose : int\u001b[39;00m\n\u001b[0;32m   1291\u001b[0m \u001b[38;5;124;03m        Controls the verbosity: the higher, the more messages.\u001b[39;00m\n\u001b[0;32m   1292\u001b[0m \n\u001b[0;32m   1293\u001b[0m \u001b[38;5;124;03m        - >1 : the computation time for each fold and parameter candidate is\u001b[39;00m\n\u001b[0;32m   1294\u001b[0m \u001b[38;5;124;03m          displayed;\u001b[39;00m\n\u001b[0;32m   1295\u001b[0m \u001b[38;5;124;03m        - >2 : the score is also displayed;\u001b[39;00m\n\u001b[0;32m   1296\u001b[0m \u001b[38;5;124;03m        - >3 : the fold and candidate parameter indexes are also displayed\u001b[39;00m\n\u001b[0;32m   1297\u001b[0m \u001b[38;5;124;03m          together with the starting time of the computation.\u001b[39;00m\n\u001b[0;32m   1298\u001b[0m \n\u001b[0;32m   1299\u001b[0m \u001b[38;5;124;03m    pre_dispatch : int, or str, default='2*n_jobs'\u001b[39;00m\n\u001b[0;32m   1300\u001b[0m \u001b[38;5;124;03m        Controls the number of jobs that get dispatched during parallel\u001b[39;00m\n\u001b[0;32m   1301\u001b[0m \u001b[38;5;124;03m        execution. Reducing this number can be useful to avoid an\u001b[39;00m\n\u001b[0;32m   1302\u001b[0m \u001b[38;5;124;03m        explosion of memory consumption when more jobs get dispatched\u001b[39;00m\n\u001b[0;32m   1303\u001b[0m \u001b[38;5;124;03m        than CPUs can process. This parameter can be:\u001b[39;00m\n\u001b[0;32m   1304\u001b[0m \n\u001b[0;32m   1305\u001b[0m \u001b[38;5;124;03m            - None, in which case all the jobs are immediately\u001b[39;00m\n\u001b[0;32m   1306\u001b[0m \u001b[38;5;124;03m              created and spawned. Use this for lightweight and\u001b[39;00m\n\u001b[0;32m   1307\u001b[0m \u001b[38;5;124;03m              fast-running jobs, to avoid delays due to on-demand\u001b[39;00m\n\u001b[0;32m   1308\u001b[0m \u001b[38;5;124;03m              spawning of the jobs\u001b[39;00m\n\u001b[0;32m   1309\u001b[0m \n\u001b[0;32m   1310\u001b[0m \u001b[38;5;124;03m            - An int, giving the exact number of total jobs that are\u001b[39;00m\n\u001b[0;32m   1311\u001b[0m \u001b[38;5;124;03m              spawned\u001b[39;00m\n\u001b[0;32m   1312\u001b[0m \n\u001b[0;32m   1313\u001b[0m \u001b[38;5;124;03m            - A str, giving an expression as a function of n_jobs,\u001b[39;00m\n\u001b[0;32m   1314\u001b[0m \u001b[38;5;124;03m              as in '2*n_jobs'\u001b[39;00m\n\u001b[0;32m   1315\u001b[0m \n\u001b[0;32m   1316\u001b[0m \u001b[38;5;124;03m    error_score : 'raise' or numeric, default=np.nan\u001b[39;00m\n\u001b[0;32m   1317\u001b[0m \u001b[38;5;124;03m        Value to assign to the score if an error occurs in estimator fitting.\u001b[39;00m\n\u001b[0;32m   1318\u001b[0m \u001b[38;5;124;03m        If set to 'raise', the error is raised. If a numeric value is given,\u001b[39;00m\n\u001b[0;32m   1319\u001b[0m \u001b[38;5;124;03m        FitFailedWarning is raised. This parameter does not affect the refit\u001b[39;00m\n\u001b[0;32m   1320\u001b[0m \u001b[38;5;124;03m        step, which will always raise the error.\u001b[39;00m\n\u001b[0;32m   1321\u001b[0m \n\u001b[0;32m   1322\u001b[0m \u001b[38;5;124;03m    return_train_score : bool, default=False\u001b[39;00m\n\u001b[0;32m   1323\u001b[0m \u001b[38;5;124;03m        If ``False``, the ``cv_results_`` attribute will not include training\u001b[39;00m\n\u001b[0;32m   1324\u001b[0m \u001b[38;5;124;03m        scores.\u001b[39;00m\n\u001b[0;32m   1325\u001b[0m \u001b[38;5;124;03m        Computing training scores is used to get insights on how different\u001b[39;00m\n\u001b[0;32m   1326\u001b[0m \u001b[38;5;124;03m        parameter settings impact the overfitting/underfitting trade-off.\u001b[39;00m\n\u001b[0;32m   1327\u001b[0m \u001b[38;5;124;03m        However computing the scores on the training set can be computationally\u001b[39;00m\n\u001b[0;32m   1328\u001b[0m \u001b[38;5;124;03m        expensive and is not strictly required to select the parameters that\u001b[39;00m\n\u001b[0;32m   1329\u001b[0m \u001b[38;5;124;03m        yield the best generalization performance.\u001b[39;00m\n\u001b[0;32m   1330\u001b[0m \n\u001b[0;32m   1331\u001b[0m \u001b[38;5;124;03m        .. versionadded:: 0.19\u001b[39;00m\n\u001b[0;32m   1332\u001b[0m \n\u001b[0;32m   1333\u001b[0m \u001b[38;5;124;03m        .. versionchanged:: 0.21\u001b[39;00m\n\u001b[0;32m   1334\u001b[0m \u001b[38;5;124;03m            Default value was changed from ``True`` to ``False``\u001b[39;00m\n\u001b[0;32m   1335\u001b[0m \n\u001b[0;32m   1336\u001b[0m \u001b[38;5;124;03m    Attributes\u001b[39;00m\n\u001b[0;32m   1337\u001b[0m \u001b[38;5;124;03m    ----------\u001b[39;00m\n\u001b[0;32m   1338\u001b[0m \u001b[38;5;124;03m    cv_results_ : dict of numpy (masked) ndarrays\u001b[39;00m\n\u001b[0;32m   1339\u001b[0m \u001b[38;5;124;03m        A dict with keys as column headers and values as columns, that can be\u001b[39;00m\n\u001b[0;32m   1340\u001b[0m \u001b[38;5;124;03m        imported into a pandas ``DataFrame``.\u001b[39;00m\n\u001b[0;32m   1341\u001b[0m \n\u001b[0;32m   1342\u001b[0m \u001b[38;5;124;03m        For instance the below given table\u001b[39;00m\n\u001b[0;32m   1343\u001b[0m \n\u001b[0;32m   1344\u001b[0m \u001b[38;5;124;03m        +------------+-----------+------------+-----------------+---+---------+\u001b[39;00m\n\u001b[0;32m   1345\u001b[0m \u001b[38;5;124;03m        |param_kernel|param_gamma|param_degree|split0_test_score|...|rank_t...|\u001b[39;00m\n\u001b[0;32m   1346\u001b[0m \u001b[38;5;124;03m        +============+===========+============+=================+===+=========+\u001b[39;00m\n\u001b[0;32m   1347\u001b[0m \u001b[38;5;124;03m        |  'poly'    |     --    |      2     |       0.80      |...|    2    |\u001b[39;00m\n\u001b[0;32m   1348\u001b[0m \u001b[38;5;124;03m        +------------+-----------+------------+-----------------+---+---------+\u001b[39;00m\n\u001b[0;32m   1349\u001b[0m \u001b[38;5;124;03m        |  'poly'    |     --    |      3     |       0.70      |...|    4    |\u001b[39;00m\n\u001b[0;32m   1350\u001b[0m \u001b[38;5;124;03m        +------------+-----------+------------+-----------------+---+---------+\u001b[39;00m\n\u001b[0;32m   1351\u001b[0m \u001b[38;5;124;03m        |  'rbf'     |     0.1   |     --     |       0.80      |...|    3    |\u001b[39;00m\n\u001b[0;32m   1352\u001b[0m \u001b[38;5;124;03m        +------------+-----------+------------+-----------------+---+---------+\u001b[39;00m\n\u001b[0;32m   1353\u001b[0m \u001b[38;5;124;03m        |  'rbf'     |     0.2   |     --     |       0.93      |...|    1    |\u001b[39;00m\n\u001b[0;32m   1354\u001b[0m \u001b[38;5;124;03m        +------------+-----------+------------+-----------------+---+---------+\u001b[39;00m\n\u001b[0;32m   1355\u001b[0m \n\u001b[0;32m   1356\u001b[0m \u001b[38;5;124;03m        will be represented by a ``cv_results_`` dict of::\u001b[39;00m\n\u001b[0;32m   1357\u001b[0m \n\u001b[0;32m   1358\u001b[0m \u001b[38;5;124;03m            {\u001b[39;00m\n\u001b[0;32m   1359\u001b[0m \u001b[38;5;124;03m            'param_kernel': masked_array(data = ['poly', 'poly', 'rbf', 'rbf'],\u001b[39;00m\n\u001b[0;32m   1360\u001b[0m \u001b[38;5;124;03m                                         mask = [False False False False]...)\u001b[39;00m\n\u001b[0;32m   1361\u001b[0m \u001b[38;5;124;03m            'param_gamma': masked_array(data = [-- -- 0.1 0.2],\u001b[39;00m\n\u001b[0;32m   1362\u001b[0m \u001b[38;5;124;03m                                        mask = [ True  True False False]...),\u001b[39;00m\n\u001b[0;32m   1363\u001b[0m \u001b[38;5;124;03m            'param_degree': masked_array(data = [2.0 3.0 -- --],\u001b[39;00m\n\u001b[0;32m   1364\u001b[0m \u001b[38;5;124;03m                                         mask = [False False  True  True]...),\u001b[39;00m\n\u001b[0;32m   1365\u001b[0m \u001b[38;5;124;03m            'split0_test_score'  : [0.80, 0.70, 0.80, 0.93],\u001b[39;00m\n\u001b[0;32m   1366\u001b[0m \u001b[38;5;124;03m            'split1_test_score'  : [0.82, 0.50, 0.70, 0.78],\u001b[39;00m\n\u001b[0;32m   1367\u001b[0m \u001b[38;5;124;03m            'mean_test_score'    : [0.81, 0.60, 0.75, 0.85],\u001b[39;00m\n\u001b[0;32m   1368\u001b[0m \u001b[38;5;124;03m            'std_test_score'     : [0.01, 0.10, 0.05, 0.08],\u001b[39;00m\n\u001b[0;32m   1369\u001b[0m \u001b[38;5;124;03m            'rank_test_score'    : [2, 4, 3, 1],\u001b[39;00m\n\u001b[0;32m   1370\u001b[0m \u001b[38;5;124;03m            'split0_train_score' : [0.80, 0.92, 0.70, 0.93],\u001b[39;00m\n\u001b[0;32m   1371\u001b[0m \u001b[38;5;124;03m            'split1_train_score' : [0.82, 0.55, 0.70, 0.87],\u001b[39;00m\n\u001b[0;32m   1372\u001b[0m \u001b[38;5;124;03m            'mean_train_score'   : [0.81, 0.74, 0.70, 0.90],\u001b[39;00m\n\u001b[0;32m   1373\u001b[0m \u001b[38;5;124;03m            'std_train_score'    : [0.01, 0.19, 0.00, 0.03],\u001b[39;00m\n\u001b[0;32m   1374\u001b[0m \u001b[38;5;124;03m            'mean_fit_time'      : [0.73, 0.63, 0.43, 0.49],\u001b[39;00m\n\u001b[0;32m   1375\u001b[0m \u001b[38;5;124;03m            'std_fit_time'       : [0.01, 0.02, 0.01, 0.01],\u001b[39;00m\n\u001b[0;32m   1376\u001b[0m \u001b[38;5;124;03m            'mean_score_time'    : [0.01, 0.06, 0.04, 0.04],\u001b[39;00m\n\u001b[0;32m   1377\u001b[0m \u001b[38;5;124;03m            'std_score_time'     : [0.00, 0.00, 0.00, 0.01],\u001b[39;00m\n\u001b[0;32m   1378\u001b[0m \u001b[38;5;124;03m            'params'             : [{'kernel': 'poly', 'degree': 2}, ...],\u001b[39;00m\n\u001b[0;32m   1379\u001b[0m \u001b[38;5;124;03m            }\u001b[39;00m\n\u001b[0;32m   1380\u001b[0m \n\u001b[0;32m   1381\u001b[0m \u001b[38;5;124;03m        NOTE\u001b[39;00m\n\u001b[0;32m   1382\u001b[0m \n\u001b[0;32m   1383\u001b[0m \u001b[38;5;124;03m        The key ``'params'`` is used to store a list of parameter\u001b[39;00m\n\u001b[0;32m   1384\u001b[0m \u001b[38;5;124;03m        settings dicts for all the parameter candidates.\u001b[39;00m\n\u001b[0;32m   1385\u001b[0m \n\u001b[0;32m   1386\u001b[0m \u001b[38;5;124;03m        The ``mean_fit_time``, ``std_fit_time``, ``mean_score_time`` and\u001b[39;00m\n\u001b[0;32m   1387\u001b[0m \u001b[38;5;124;03m        ``std_score_time`` are all in seconds.\u001b[39;00m\n\u001b[0;32m   1388\u001b[0m \n\u001b[0;32m   1389\u001b[0m \u001b[38;5;124;03m        For multi-metric evaluation, the scores for all the scorers are\u001b[39;00m\n\u001b[0;32m   1390\u001b[0m \u001b[38;5;124;03m        available in the ``cv_results_`` dict at the keys ending with that\u001b[39;00m\n\u001b[0;32m   1391\u001b[0m \u001b[38;5;124;03m        scorer's name (``'_<scorer_name>'``) instead of ``'_score'`` shown\u001b[39;00m\n\u001b[0;32m   1392\u001b[0m \u001b[38;5;124;03m        above. ('split0_test_precision', 'mean_train_precision' etc.)\u001b[39;00m\n\u001b[0;32m   1393\u001b[0m \n\u001b[0;32m   1394\u001b[0m \u001b[38;5;124;03m    best_estimator_ : estimator\u001b[39;00m\n\u001b[0;32m   1395\u001b[0m \u001b[38;5;124;03m        Estimator that was chosen by the search, i.e. estimator\u001b[39;00m\n\u001b[0;32m   1396\u001b[0m \u001b[38;5;124;03m        which gave highest score (or smallest loss if specified)\u001b[39;00m\n\u001b[0;32m   1397\u001b[0m \u001b[38;5;124;03m        on the left out data. Not available if ``refit=False``.\u001b[39;00m\n\u001b[0;32m   1398\u001b[0m \n\u001b[0;32m   1399\u001b[0m \u001b[38;5;124;03m        See ``refit`` parameter for more information on allowed values.\u001b[39;00m\n\u001b[0;32m   1400\u001b[0m \n\u001b[0;32m   1401\u001b[0m \u001b[38;5;124;03m    best_score_ : float\u001b[39;00m\n\u001b[0;32m   1402\u001b[0m \u001b[38;5;124;03m        Mean cross-validated score of the best_estimator\u001b[39;00m\n\u001b[0;32m   1403\u001b[0m \n\u001b[0;32m   1404\u001b[0m \u001b[38;5;124;03m        For multi-metric evaluation, this is present only if ``refit`` is\u001b[39;00m\n\u001b[0;32m   1405\u001b[0m \u001b[38;5;124;03m        specified.\u001b[39;00m\n\u001b[0;32m   1406\u001b[0m \n\u001b[0;32m   1407\u001b[0m \u001b[38;5;124;03m        This attribute is not available if ``refit`` is a function.\u001b[39;00m\n\u001b[0;32m   1408\u001b[0m \n\u001b[0;32m   1409\u001b[0m \u001b[38;5;124;03m    best_params_ : dict\u001b[39;00m\n\u001b[0;32m   1410\u001b[0m \u001b[38;5;124;03m        Parameter setting that gave the best results on the hold out data.\u001b[39;00m\n\u001b[0;32m   1411\u001b[0m \n\u001b[0;32m   1412\u001b[0m \u001b[38;5;124;03m        For multi-metric evaluation, this is present only if ``refit`` is\u001b[39;00m\n\u001b[0;32m   1413\u001b[0m \u001b[38;5;124;03m        specified.\u001b[39;00m\n\u001b[0;32m   1414\u001b[0m \n\u001b[0;32m   1415\u001b[0m \u001b[38;5;124;03m    best_index_ : int\u001b[39;00m\n\u001b[0;32m   1416\u001b[0m \u001b[38;5;124;03m        The index (of the ``cv_results_`` arrays) which corresponds to the best\u001b[39;00m\n\u001b[0;32m   1417\u001b[0m \u001b[38;5;124;03m        candidate parameter setting.\u001b[39;00m\n\u001b[0;32m   1418\u001b[0m \n\u001b[1;32m-> 1419\u001b[0m \u001b[38;5;124;03m        The dict at ``search.cv_results_['params'][search.best_index_]`` gives\u001b[39;00m\n\u001b[0;32m   1420\u001b[0m \u001b[38;5;124;03m        the parameter setting for the best model, that gives the highest\u001b[39;00m\n\u001b[0;32m   1421\u001b[0m \u001b[38;5;124;03m        mean score (``search.best_score_``).\u001b[39;00m\n\u001b[0;32m   1422\u001b[0m \n\u001b[0;32m   1423\u001b[0m \u001b[38;5;124;03m        For multi-metric evaluation, this is present only if ``refit`` is\u001b[39;00m\n\u001b[0;32m   1424\u001b[0m \u001b[38;5;124;03m        specified.\u001b[39;00m\n\u001b[0;32m   1425\u001b[0m \n\u001b[0;32m   1426\u001b[0m \u001b[38;5;124;03m    scorer_ : function or a dict\u001b[39;00m\n\u001b[0;32m   1427\u001b[0m \u001b[38;5;124;03m        Scorer function used on the held out data to choose the best\u001b[39;00m\n\u001b[0;32m   1428\u001b[0m \u001b[38;5;124;03m        parameters for the model.\u001b[39;00m\n\u001b[0;32m   1429\u001b[0m \n\u001b[0;32m   1430\u001b[0m \u001b[38;5;124;03m        For multi-metric evaluation, this attribute holds the validated\u001b[39;00m\n\u001b[0;32m   1431\u001b[0m \u001b[38;5;124;03m        ``scoring`` dict which maps the scorer key to the scorer callable.\u001b[39;00m\n\u001b[0;32m   1432\u001b[0m \n\u001b[0;32m   1433\u001b[0m \u001b[38;5;124;03m    n_splits_ : int\u001b[39;00m\n\u001b[0;32m   1434\u001b[0m \u001b[38;5;124;03m        The number of cross-validation splits (folds/iterations).\u001b[39;00m\n\u001b[0;32m   1435\u001b[0m \n\u001b[0;32m   1436\u001b[0m \u001b[38;5;124;03m    refit_time_ : float\u001b[39;00m\n\u001b[0;32m   1437\u001b[0m \u001b[38;5;124;03m        Seconds used for refitting the best model on the whole dataset.\u001b[39;00m\n\u001b[0;32m   1438\u001b[0m \n\u001b[0;32m   1439\u001b[0m \u001b[38;5;124;03m        This is present only if ``refit`` is not False.\u001b[39;00m\n\u001b[0;32m   1440\u001b[0m \n\u001b[0;32m   1441\u001b[0m \u001b[38;5;124;03m        .. versionadded:: 0.20\u001b[39;00m\n\u001b[0;32m   1442\u001b[0m \n\u001b[0;32m   1443\u001b[0m \u001b[38;5;124;03m    multimetric_ : bool\u001b[39;00m\n\u001b[0;32m   1444\u001b[0m \u001b[38;5;124;03m        Whether or not the scorers compute several metrics.\u001b[39;00m\n\u001b[0;32m   1445\u001b[0m \n\u001b[0;32m   1446\u001b[0m \u001b[38;5;124;03m    classes_ : ndarray of shape (n_classes,)\u001b[39;00m\n\u001b[0;32m   1447\u001b[0m \u001b[38;5;124;03m        The classes labels. This is present only if ``refit`` is specified and\u001b[39;00m\n\u001b[0;32m   1448\u001b[0m \u001b[38;5;124;03m        the underlying estimator is a classifier.\u001b[39;00m\n\u001b[0;32m   1449\u001b[0m \n\u001b[0;32m   1450\u001b[0m \u001b[38;5;124;03m    n_features_in_ : int\u001b[39;00m\n\u001b[0;32m   1451\u001b[0m \u001b[38;5;124;03m        Number of features seen during :term:`fit`. Only defined if\u001b[39;00m\n\u001b[0;32m   1452\u001b[0m \u001b[38;5;124;03m        `best_estimator_` is defined (see the documentation for the `refit`\u001b[39;00m\n\u001b[0;32m   1453\u001b[0m \u001b[38;5;124;03m        parameter for more details) and that `best_estimator_` exposes\u001b[39;00m\n\u001b[0;32m   1454\u001b[0m \u001b[38;5;124;03m        `n_features_in_` when fit.\u001b[39;00m\n\u001b[0;32m   1455\u001b[0m \n\u001b[0;32m   1456\u001b[0m \u001b[38;5;124;03m        .. versionadded:: 0.24\u001b[39;00m\n\u001b[0;32m   1457\u001b[0m \n\u001b[0;32m   1458\u001b[0m \u001b[38;5;124;03m    feature_names_in_ : ndarray of shape (`n_features_in_`,)\u001b[39;00m\n\u001b[0;32m   1459\u001b[0m \u001b[38;5;124;03m        Names of features seen during :term:`fit`. Only defined if\u001b[39;00m\n\u001b[0;32m   1460\u001b[0m \u001b[38;5;124;03m        `best_estimator_` is defined (see the documentation for the `refit`\u001b[39;00m\n\u001b[0;32m   1461\u001b[0m \u001b[38;5;124;03m        parameter for more details) and that `best_estimator_` exposes\u001b[39;00m\n\u001b[0;32m   1462\u001b[0m \u001b[38;5;124;03m        `feature_names_in_` when fit.\u001b[39;00m\n\u001b[0;32m   1463\u001b[0m \n\u001b[0;32m   1464\u001b[0m \u001b[38;5;124;03m        .. versionadded:: 1.0\u001b[39;00m\n\u001b[0;32m   1465\u001b[0m \n\u001b[0;32m   1466\u001b[0m \u001b[38;5;124;03m    See Also\u001b[39;00m\n\u001b[0;32m   1467\u001b[0m \u001b[38;5;124;03m    --------\u001b[39;00m\n\u001b[0;32m   1468\u001b[0m \u001b[38;5;124;03m    ParameterGrid : Generates all the combinations of a hyperparameter grid.\u001b[39;00m\n\u001b[0;32m   1469\u001b[0m \u001b[38;5;124;03m    train_test_split : Utility function to split the data into a development\u001b[39;00m\n\u001b[0;32m   1470\u001b[0m \u001b[38;5;124;03m        set usable for fitting a GridSearchCV instance and an evaluation set\u001b[39;00m\n\u001b[0;32m   1471\u001b[0m \u001b[38;5;124;03m        for its final evaluation.\u001b[39;00m\n\u001b[0;32m   1472\u001b[0m \u001b[38;5;124;03m    sklearn.metrics.make_scorer : Make a scorer from a performance metric or\u001b[39;00m\n\u001b[0;32m   1473\u001b[0m \u001b[38;5;124;03m        loss function.\u001b[39;00m\n\u001b[0;32m   1474\u001b[0m \n\u001b[0;32m   1475\u001b[0m \u001b[38;5;124;03m    Notes\u001b[39;00m\n\u001b[0;32m   1476\u001b[0m \u001b[38;5;124;03m    -----\u001b[39;00m\n\u001b[0;32m   1477\u001b[0m \u001b[38;5;124;03m    The parameters selected are those that maximize the score of the left out\u001b[39;00m\n\u001b[0;32m   1478\u001b[0m \u001b[38;5;124;03m    data, unless an explicit score is passed in which case it is used instead.\u001b[39;00m\n\u001b[0;32m   1479\u001b[0m \n\u001b[0;32m   1480\u001b[0m \u001b[38;5;124;03m    If `n_jobs` was set to a value higher than one, the data is copied for each\u001b[39;00m\n\u001b[0;32m   1481\u001b[0m \u001b[38;5;124;03m    point in the grid (and not `n_jobs` times). This is done for efficiency\u001b[39;00m\n\u001b[0;32m   1482\u001b[0m \u001b[38;5;124;03m    reasons if individual jobs take very little time, but may raise errors if\u001b[39;00m\n\u001b[0;32m   1483\u001b[0m \u001b[38;5;124;03m    the dataset is large and not enough memory is available.  A workaround in\u001b[39;00m\n\u001b[0;32m   1484\u001b[0m \u001b[38;5;124;03m    this case is to set `pre_dispatch`. Then, the memory is copied only\u001b[39;00m\n\u001b[0;32m   1485\u001b[0m \u001b[38;5;124;03m    `pre_dispatch` many times. A reasonable value for `pre_dispatch` is `2 *\u001b[39;00m\n\u001b[0;32m   1486\u001b[0m \u001b[38;5;124;03m    n_jobs`.\u001b[39;00m\n\u001b[0;32m   1487\u001b[0m \n\u001b[0;32m   1488\u001b[0m \u001b[38;5;124;03m    Examples\u001b[39;00m\n\u001b[0;32m   1489\u001b[0m \u001b[38;5;124;03m    --------\u001b[39;00m\n\u001b[0;32m   1490\u001b[0m \u001b[38;5;124;03m    >>> from sklearn import svm, datasets\u001b[39;00m\n\u001b[0;32m   1491\u001b[0m \u001b[38;5;124;03m    >>> from sklearn.model_selection import GridSearchCV\u001b[39;00m\n\u001b[0;32m   1492\u001b[0m \u001b[38;5;124;03m    >>> iris = datasets.load_iris()\u001b[39;00m\n\u001b[0;32m   1493\u001b[0m \u001b[38;5;124;03m    >>> parameters = {'kernel':('linear', 'rbf'), 'C':[1, 10]}\u001b[39;00m\n\u001b[0;32m   1494\u001b[0m \u001b[38;5;124;03m    >>> svc = svm.SVC()\u001b[39;00m\n\u001b[0;32m   1495\u001b[0m \u001b[38;5;124;03m    >>> clf = GridSearchCV(svc, parameters)\u001b[39;00m\n\u001b[0;32m   1496\u001b[0m \u001b[38;5;124;03m    >>> clf.fit(iris.data, iris.target)\u001b[39;00m\n\u001b[0;32m   1497\u001b[0m \u001b[38;5;124;03m    GridSearchCV(estimator=SVC(),\u001b[39;00m\n\u001b[0;32m   1498\u001b[0m \u001b[38;5;124;03m                 param_grid={'C': [1, 10], 'kernel': ('linear', 'rbf')})\u001b[39;00m\n\u001b[0;32m   1499\u001b[0m \u001b[38;5;124;03m    >>> sorted(clf.cv_results_.keys())\u001b[39;00m\n\u001b[0;32m   1500\u001b[0m \u001b[38;5;124;03m    ['mean_fit_time', 'mean_score_time', 'mean_test_score',...\u001b[39;00m\n\u001b[0;32m   1501\u001b[0m \u001b[38;5;124;03m     'param_C', 'param_kernel', 'params',...\u001b[39;00m\n\u001b[0;32m   1502\u001b[0m \u001b[38;5;124;03m     'rank_test_score', 'split0_test_score',...\u001b[39;00m\n\u001b[0;32m   1503\u001b[0m \u001b[38;5;124;03m     'split2_test_score', ...\u001b[39;00m\n\u001b[0;32m   1504\u001b[0m \u001b[38;5;124;03m     'std_fit_time', 'std_score_time', 'std_test_score']\u001b[39;00m\n\u001b[0;32m   1505\u001b[0m \u001b[38;5;124;03m    \"\"\"\u001b[39;00m\n\u001b[0;32m   1507\u001b[0m     _required_parameters \u001b[38;5;241m=\u001b[39m [\u001b[38;5;124m\"\u001b[39m\u001b[38;5;124mestimator\u001b[39m\u001b[38;5;124m\"\u001b[39m, \u001b[38;5;124m\"\u001b[39m\u001b[38;5;124mparam_grid\u001b[39m\u001b[38;5;124m\"\u001b[39m]\n\u001b[0;32m   1509\u001b[0m     _parameter_constraints: \u001b[38;5;28mdict\u001b[39m \u001b[38;5;241m=\u001b[39m {\n\u001b[0;32m   1510\u001b[0m         \u001b[38;5;241m*\u001b[39m\u001b[38;5;241m*\u001b[39mBaseSearchCV\u001b[38;5;241m.\u001b[39m_parameter_constraints,\n\u001b[0;32m   1511\u001b[0m         \u001b[38;5;124m\"\u001b[39m\u001b[38;5;124mparam_grid\u001b[39m\u001b[38;5;124m\"\u001b[39m: [\u001b[38;5;28mdict\u001b[39m, \u001b[38;5;28mlist\u001b[39m],\n\u001b[0;32m   1512\u001b[0m     }\n",
      "File \u001b[1;32m~\\AppData\\Local\\anaconda3\\envs\\nlp\\lib\\site-packages\\sklearn\\model_selection\\_search.py:845\u001b[0m, in \u001b[0;36mevaluate_candidates\u001b[1;34m(candidate_params, cv, more_results)\u001b[0m\n\u001b[0;32m    836\u001b[0m \u001b[38;5;129m@_fit_context\u001b[39m(\n\u001b[0;32m    837\u001b[0m     \u001b[38;5;66;03m# *SearchCV.estimator is not validated yet\u001b[39;00m\n\u001b[0;32m    838\u001b[0m     prefer_skip_nested_validation\u001b[38;5;241m=\u001b[39m\u001b[38;5;28;01mFalse\u001b[39;00m\n\u001b[0;32m    839\u001b[0m )\n\u001b[0;32m    840\u001b[0m \u001b[38;5;28;01mdef\u001b[39;00m \u001b[38;5;21mfit\u001b[39m(\u001b[38;5;28mself\u001b[39m, X, y\u001b[38;5;241m=\u001b[39m\u001b[38;5;28;01mNone\u001b[39;00m, \u001b[38;5;241m*\u001b[39m\u001b[38;5;241m*\u001b[39mparams):\n\u001b[0;32m    841\u001b[0m \u001b[38;5;250m    \u001b[39m\u001b[38;5;124;03m\"\"\"Run fit with all sets of parameters.\u001b[39;00m\n\u001b[0;32m    842\u001b[0m \n\u001b[0;32m    843\u001b[0m \u001b[38;5;124;03m    Parameters\u001b[39;00m\n\u001b[0;32m    844\u001b[0m \u001b[38;5;124;03m    ----------\u001b[39;00m\n\u001b[1;32m--> 845\u001b[0m \n\u001b[0;32m    846\u001b[0m \u001b[38;5;124;03m    X : array-like of shape (n_samples, n_features)\u001b[39;00m\n\u001b[0;32m    847\u001b[0m \u001b[38;5;124;03m        Training vector, where `n_samples` is the number of samples and\u001b[39;00m\n\u001b[0;32m    848\u001b[0m \u001b[38;5;124;03m        `n_features` is the number of features.\u001b[39;00m\n\u001b[0;32m    849\u001b[0m \n\u001b[0;32m    850\u001b[0m \u001b[38;5;124;03m    y : array-like of shape (n_samples, n_output) \\\u001b[39;00m\n\u001b[0;32m    851\u001b[0m \u001b[38;5;124;03m        or (n_samples,), default=None\u001b[39;00m\n\u001b[0;32m    852\u001b[0m \u001b[38;5;124;03m        Target relative to X for classification or regression;\u001b[39;00m\n\u001b[0;32m    853\u001b[0m \u001b[38;5;124;03m        None for unsupervised learning.\u001b[39;00m\n\u001b[0;32m    854\u001b[0m \n\u001b[0;32m    855\u001b[0m \u001b[38;5;124;03m    **params : dict of str -> object\u001b[39;00m\n\u001b[0;32m    856\u001b[0m \u001b[38;5;124;03m        Parameters passed to the ``fit`` method of the estimator, the scorer,\u001b[39;00m\n\u001b[0;32m    857\u001b[0m \u001b[38;5;124;03m        and the CV splitter.\u001b[39;00m\n\u001b[0;32m    858\u001b[0m \n\u001b[0;32m    859\u001b[0m \u001b[38;5;124;03m        If a fit parameter is an array-like whose length is equal to\u001b[39;00m\n\u001b[0;32m    860\u001b[0m \u001b[38;5;124;03m        `num_samples` then it will be split across CV groups along with `X`\u001b[39;00m\n\u001b[0;32m    861\u001b[0m \u001b[38;5;124;03m        and `y`. For example, the :term:`sample_weight` parameter is split\u001b[39;00m\n\u001b[0;32m    862\u001b[0m \u001b[38;5;124;03m        because `len(sample_weights) = len(X)`.\u001b[39;00m\n\u001b[0;32m    863\u001b[0m \n\u001b[0;32m    864\u001b[0m \u001b[38;5;124;03m    Returns\u001b[39;00m\n\u001b[0;32m    865\u001b[0m \u001b[38;5;124;03m    -------\u001b[39;00m\n\u001b[0;32m    866\u001b[0m \u001b[38;5;124;03m    self : object\u001b[39;00m\n\u001b[0;32m    867\u001b[0m \u001b[38;5;124;03m        Instance of fitted estimator.\u001b[39;00m\n\u001b[0;32m    868\u001b[0m \u001b[38;5;124;03m    \"\"\"\u001b[39;00m\n\u001b[0;32m    869\u001b[0m     estimator \u001b[38;5;241m=\u001b[39m \u001b[38;5;28mself\u001b[39m\u001b[38;5;241m.\u001b[39mestimator\n\u001b[0;32m    870\u001b[0m     scorers, refit_metric \u001b[38;5;241m=\u001b[39m \u001b[38;5;28mself\u001b[39m\u001b[38;5;241m.\u001b[39m_get_scorers()\n",
      "File \u001b[1;32m~\\AppData\\Local\\anaconda3\\envs\\nlp\\lib\\site-packages\\sklearn\\utils\\parallel.py:65\u001b[0m, in \u001b[0;36m__call__\u001b[1;34m(self, iterable)\u001b[0m\n\u001b[0;32m     58\u001b[0m \u001b[38;5;66;03m# Capture the thread-local scikit-learn configuration at the time\u001b[39;00m\n\u001b[0;32m     59\u001b[0m \u001b[38;5;66;03m# Parallel.__call__ is issued since the tasks can be dispatched\u001b[39;00m\n\u001b[0;32m     60\u001b[0m \u001b[38;5;66;03m# in a different thread depending on the backend and on the value of\u001b[39;00m\n\u001b[0;32m     61\u001b[0m \u001b[38;5;66;03m# pre_dispatch and n_jobs.\u001b[39;00m\n\u001b[0;32m     62\u001b[0m config \u001b[38;5;241m=\u001b[39m get_config()\n\u001b[0;32m     63\u001b[0m iterable_with_config \u001b[38;5;241m=\u001b[39m (\n\u001b[0;32m     64\u001b[0m     (_with_config(delayed_func, config), args, kwargs)\n\u001b[1;32m---> 65\u001b[0m     \u001b[38;5;28;01mfor\u001b[39;00m delayed_func, args, kwargs \u001b[38;5;129;01min\u001b[39;00m iterable\n\u001b[0;32m     66\u001b[0m )\n\u001b[0;32m     67\u001b[0m \u001b[38;5;28;01mreturn\u001b[39;00m \u001b[38;5;28msuper\u001b[39m()\u001b[38;5;241m.\u001b[39m\u001b[38;5;21m__call__\u001b[39m(iterable_with_config)\n",
      "File \u001b[1;32m~\\AppData\\Local\\anaconda3\\envs\\nlp\\lib\\site-packages\\joblib\\parallel.py:2007\u001b[0m, in \u001b[0;36mParallel.__call__\u001b[1;34m(self, iterable)\u001b[0m\n\u001b[0;32m   2001\u001b[0m \u001b[38;5;66;03m# The first item from the output is blank, but it makes the interpreter\u001b[39;00m\n\u001b[0;32m   2002\u001b[0m \u001b[38;5;66;03m# progress until it enters the Try/Except block of the generator and\u001b[39;00m\n\u001b[0;32m   2003\u001b[0m \u001b[38;5;66;03m# reaches the first `yield` statement. This starts the asynchronous\u001b[39;00m\n\u001b[0;32m   2004\u001b[0m \u001b[38;5;66;03m# dispatch of the tasks to the workers.\u001b[39;00m\n\u001b[0;32m   2005\u001b[0m \u001b[38;5;28mnext\u001b[39m(output)\n\u001b[1;32m-> 2007\u001b[0m \u001b[38;5;28;01mreturn\u001b[39;00m output \u001b[38;5;28;01mif\u001b[39;00m \u001b[38;5;28mself\u001b[39m\u001b[38;5;241m.\u001b[39mreturn_generator \u001b[38;5;28;01melse\u001b[39;00m \u001b[38;5;28;43mlist\u001b[39;49m\u001b[43m(\u001b[49m\u001b[43moutput\u001b[49m\u001b[43m)\u001b[49m\n",
      "File \u001b[1;32m~\\AppData\\Local\\anaconda3\\envs\\nlp\\lib\\site-packages\\joblib\\parallel.py:1650\u001b[0m, in \u001b[0;36mParallel._get_outputs\u001b[1;34m(self, iterator, pre_dispatch)\u001b[0m\n\u001b[0;32m   1647\u001b[0m     \u001b[38;5;28;01myield\u001b[39;00m\n\u001b[0;32m   1649\u001b[0m     \u001b[38;5;28;01mwith\u001b[39;00m \u001b[38;5;28mself\u001b[39m\u001b[38;5;241m.\u001b[39m_backend\u001b[38;5;241m.\u001b[39mretrieval_context():\n\u001b[1;32m-> 1650\u001b[0m         \u001b[38;5;28;01myield from\u001b[39;00m \u001b[38;5;28mself\u001b[39m\u001b[38;5;241m.\u001b[39m_retrieve()\n\u001b[0;32m   1652\u001b[0m \u001b[38;5;28;01mexcept\u001b[39;00m \u001b[38;5;167;01mGeneratorExit\u001b[39;00m:\n\u001b[0;32m   1653\u001b[0m     \u001b[38;5;66;03m# The generator has been garbage collected before being fully\u001b[39;00m\n\u001b[0;32m   1654\u001b[0m     \u001b[38;5;66;03m# consumed. This aborts the remaining tasks if possible and warn\u001b[39;00m\n\u001b[0;32m   1655\u001b[0m     \u001b[38;5;66;03m# the user if necessary.\u001b[39;00m\n\u001b[0;32m   1656\u001b[0m     \u001b[38;5;28mself\u001b[39m\u001b[38;5;241m.\u001b[39m_exception \u001b[38;5;241m=\u001b[39m \u001b[38;5;28;01mTrue\u001b[39;00m\n",
      "File \u001b[1;32m~\\AppData\\Local\\anaconda3\\envs\\nlp\\lib\\site-packages\\joblib\\parallel.py:1754\u001b[0m, in \u001b[0;36mParallel._retrieve\u001b[1;34m(self)\u001b[0m\n\u001b[0;32m   1747\u001b[0m \u001b[38;5;28;01mwhile\u001b[39;00m \u001b[38;5;28mself\u001b[39m\u001b[38;5;241m.\u001b[39m_wait_retrieval():\n\u001b[0;32m   1748\u001b[0m \n\u001b[0;32m   1749\u001b[0m     \u001b[38;5;66;03m# If the callback thread of a worker has signaled that its task\u001b[39;00m\n\u001b[0;32m   1750\u001b[0m     \u001b[38;5;66;03m# triggered an exception, or if the retrieval loop has raised an\u001b[39;00m\n\u001b[0;32m   1751\u001b[0m     \u001b[38;5;66;03m# exception (e.g. `GeneratorExit`), exit the loop and surface the\u001b[39;00m\n\u001b[0;32m   1752\u001b[0m     \u001b[38;5;66;03m# worker traceback.\u001b[39;00m\n\u001b[0;32m   1753\u001b[0m     \u001b[38;5;28;01mif\u001b[39;00m \u001b[38;5;28mself\u001b[39m\u001b[38;5;241m.\u001b[39m_aborting:\n\u001b[1;32m-> 1754\u001b[0m         \u001b[38;5;28;43mself\u001b[39;49m\u001b[38;5;241;43m.\u001b[39;49m\u001b[43m_raise_error_fast\u001b[49m\u001b[43m(\u001b[49m\u001b[43m)\u001b[49m\n\u001b[0;32m   1755\u001b[0m         \u001b[38;5;28;01mbreak\u001b[39;00m\n\u001b[0;32m   1757\u001b[0m     \u001b[38;5;66;03m# If the next job is not ready for retrieval yet, we just wait for\u001b[39;00m\n\u001b[0;32m   1758\u001b[0m     \u001b[38;5;66;03m# async callbacks to progress.\u001b[39;00m\n",
      "File \u001b[1;32m~\\AppData\\Local\\anaconda3\\envs\\nlp\\lib\\site-packages\\joblib\\parallel.py:1789\u001b[0m, in \u001b[0;36mParallel._raise_error_fast\u001b[1;34m(self)\u001b[0m\n\u001b[0;32m   1785\u001b[0m \u001b[38;5;66;03m# If this error job exists, immediately raise the error by\u001b[39;00m\n\u001b[0;32m   1786\u001b[0m \u001b[38;5;66;03m# calling get_result. This job might not exists if abort has been\u001b[39;00m\n\u001b[0;32m   1787\u001b[0m \u001b[38;5;66;03m# called directly or if the generator is gc'ed.\u001b[39;00m\n\u001b[0;32m   1788\u001b[0m \u001b[38;5;28;01mif\u001b[39;00m error_job \u001b[38;5;129;01mis\u001b[39;00m \u001b[38;5;129;01mnot\u001b[39;00m \u001b[38;5;28;01mNone\u001b[39;00m:\n\u001b[1;32m-> 1789\u001b[0m     \u001b[43merror_job\u001b[49m\u001b[38;5;241;43m.\u001b[39;49m\u001b[43mget_result\u001b[49m\u001b[43m(\u001b[49m\u001b[38;5;28;43mself\u001b[39;49m\u001b[38;5;241;43m.\u001b[39;49m\u001b[43mtimeout\u001b[49m\u001b[43m)\u001b[49m\n",
      "File \u001b[1;32m~\\AppData\\Local\\anaconda3\\envs\\nlp\\lib\\site-packages\\joblib\\parallel.py:745\u001b[0m, in \u001b[0;36mBatchCompletionCallBack.get_result\u001b[1;34m(self, timeout)\u001b[0m\n\u001b[0;32m    739\u001b[0m backend \u001b[38;5;241m=\u001b[39m \u001b[38;5;28mself\u001b[39m\u001b[38;5;241m.\u001b[39mparallel\u001b[38;5;241m.\u001b[39m_backend\n\u001b[0;32m    741\u001b[0m \u001b[38;5;28;01mif\u001b[39;00m backend\u001b[38;5;241m.\u001b[39msupports_retrieve_callback:\n\u001b[0;32m    742\u001b[0m     \u001b[38;5;66;03m# We assume that the result has already been retrieved by the\u001b[39;00m\n\u001b[0;32m    743\u001b[0m     \u001b[38;5;66;03m# callback thread, and is stored internally. It's just waiting to\u001b[39;00m\n\u001b[0;32m    744\u001b[0m     \u001b[38;5;66;03m# be returned.\u001b[39;00m\n\u001b[1;32m--> 745\u001b[0m     \u001b[38;5;28;01mreturn\u001b[39;00m \u001b[38;5;28;43mself\u001b[39;49m\u001b[38;5;241;43m.\u001b[39;49m\u001b[43m_return_or_raise\u001b[49m\u001b[43m(\u001b[49m\u001b[43m)\u001b[49m\n\u001b[0;32m    747\u001b[0m \u001b[38;5;66;03m# For other backends, the main thread needs to run the retrieval step.\u001b[39;00m\n\u001b[0;32m    748\u001b[0m \u001b[38;5;28;01mtry\u001b[39;00m:\n",
      "File \u001b[1;32m~\\AppData\\Local\\anaconda3\\envs\\nlp\\lib\\site-packages\\joblib\\parallel.py:763\u001b[0m, in \u001b[0;36mBatchCompletionCallBack._return_or_raise\u001b[1;34m(self)\u001b[0m\n\u001b[0;32m    761\u001b[0m \u001b[38;5;28;01mtry\u001b[39;00m:\n\u001b[0;32m    762\u001b[0m     \u001b[38;5;28;01mif\u001b[39;00m \u001b[38;5;28mself\u001b[39m\u001b[38;5;241m.\u001b[39mstatus \u001b[38;5;241m==\u001b[39m TASK_ERROR:\n\u001b[1;32m--> 763\u001b[0m         \u001b[38;5;28;01mraise\u001b[39;00m \u001b[38;5;28mself\u001b[39m\u001b[38;5;241m.\u001b[39m_result\n\u001b[0;32m    764\u001b[0m     \u001b[38;5;28;01mreturn\u001b[39;00m \u001b[38;5;28mself\u001b[39m\u001b[38;5;241m.\u001b[39m_result\n\u001b[0;32m    765\u001b[0m \u001b[38;5;28;01mfinally\u001b[39;00m:\n",
      "\u001b[1;31mBrokenProcessPool\u001b[0m: A task has failed to un-serialize. Please ensure that the arguments of the function are all picklable."
     ]
    }
   ],
   "source": [
    "grid_search = GridSearchCV(pipeline, param_grid, cv=8, verbose=1, n_jobs=-1, scoring='precision_macro')\n",
    "grid_search.fit(X_train, y_train)"
   ]
  },
  {
   "cell_type": "code",
   "execution_count": 29,
   "id": "9c75e16a",
   "metadata": {
    "ExecuteTime": {
     "end_time": "2024-07-02T12:56:07.532293Z",
     "start_time": "2024-07-02T12:56:07.521651Z"
    }
   },
   "outputs": [],
   "source": [
    "best_params = grid_search.best_params_\n",
    "best_score = grid_search.best_score_"
   ]
  },
  {
   "cell_type": "code",
   "execution_count": 30,
   "id": "4e58fbe7",
   "metadata": {
    "ExecuteTime": {
     "end_time": "2024-07-02T12:56:08.170308Z",
     "start_time": "2024-07-02T12:56:08.117843Z"
    }
   },
   "outputs": [
    {
     "name": "stdout",
     "output_type": "stream",
     "text": [
      "Best Parameters: {'classifier__alpha': 0.1, 'vectorizer__max_features': 1000, 'vectorizer__ngram_range': (1, 1)}\n",
      "Best Score: 0.9895833333333333\n"
     ]
    }
   ],
   "source": [
    "print(\"Best Parameters:\", best_params)\n",
    "print(\"Best Score:\", best_score)"
   ]
  },
  {
   "cell_type": "code",
   "execution_count": 31,
   "id": "3f59ec0d",
   "metadata": {
    "ExecuteTime": {
     "end_time": "2024-07-02T12:56:09.789109Z",
     "start_time": "2024-07-02T12:56:09.734531Z"
    }
   },
   "outputs": [
    {
     "name": "stdout",
     "output_type": "stream",
     "text": [
      "              precision    recall  f1-score   support\n",
      "\n",
      "           0       1.00      1.00      1.00         1\n",
      "           1       1.00      1.00      1.00         4\n",
      "           2       1.00      1.00      1.00         4\n",
      "           3       1.00      1.00      1.00         7\n",
      "\n",
      "    accuracy                           1.00        16\n",
      "   macro avg       1.00      1.00      1.00        16\n",
      "weighted avg       1.00      1.00      1.00        16\n",
      "\n"
     ]
    }
   ],
   "source": [
    "predictions = grid_search.best_estimator_.predict(X_test)\n",
    "print(classification_report(predictions, y_test))"
   ]
  },
  {
   "cell_type": "code",
   "execution_count": 32,
   "id": "baf5cab7",
   "metadata": {
    "ExecuteTime": {
     "end_time": "2024-07-02T12:56:10.732211Z",
     "start_time": "2024-07-02T12:56:10.701350Z"
    }
   },
   "outputs": [
    {
     "data": {
      "text/html": [
       "<style>#sk-container-id-2 {color: black;}#sk-container-id-2 pre{padding: 0;}#sk-container-id-2 div.sk-toggleable {background-color: white;}#sk-container-id-2 label.sk-toggleable__label {cursor: pointer;display: block;width: 100%;margin-bottom: 0;padding: 0.3em;box-sizing: border-box;text-align: center;}#sk-container-id-2 label.sk-toggleable__label-arrow:before {content: \"▸\";float: left;margin-right: 0.25em;color: #696969;}#sk-container-id-2 label.sk-toggleable__label-arrow:hover:before {color: black;}#sk-container-id-2 div.sk-estimator:hover label.sk-toggleable__label-arrow:before {color: black;}#sk-container-id-2 div.sk-toggleable__content {max-height: 0;max-width: 0;overflow: hidden;text-align: left;background-color: #f0f8ff;}#sk-container-id-2 div.sk-toggleable__content pre {margin: 0.2em;color: black;border-radius: 0.25em;background-color: #f0f8ff;}#sk-container-id-2 input.sk-toggleable__control:checked~div.sk-toggleable__content {max-height: 200px;max-width: 100%;overflow: auto;}#sk-container-id-2 input.sk-toggleable__control:checked~label.sk-toggleable__label-arrow:before {content: \"▾\";}#sk-container-id-2 div.sk-estimator input.sk-toggleable__control:checked~label.sk-toggleable__label {background-color: #d4ebff;}#sk-container-id-2 div.sk-label input.sk-toggleable__control:checked~label.sk-toggleable__label {background-color: #d4ebff;}#sk-container-id-2 input.sk-hidden--visually {border: 0;clip: rect(1px 1px 1px 1px);clip: rect(1px, 1px, 1px, 1px);height: 1px;margin: -1px;overflow: hidden;padding: 0;position: absolute;width: 1px;}#sk-container-id-2 div.sk-estimator {font-family: monospace;background-color: #f0f8ff;border: 1px dotted black;border-radius: 0.25em;box-sizing: border-box;margin-bottom: 0.5em;}#sk-container-id-2 div.sk-estimator:hover {background-color: #d4ebff;}#sk-container-id-2 div.sk-parallel-item::after {content: \"\";width: 100%;border-bottom: 1px solid gray;flex-grow: 1;}#sk-container-id-2 div.sk-label:hover label.sk-toggleable__label {background-color: #d4ebff;}#sk-container-id-2 div.sk-serial::before {content: \"\";position: absolute;border-left: 1px solid gray;box-sizing: border-box;top: 0;bottom: 0;left: 50%;z-index: 0;}#sk-container-id-2 div.sk-serial {display: flex;flex-direction: column;align-items: center;background-color: white;padding-right: 0.2em;padding-left: 0.2em;position: relative;}#sk-container-id-2 div.sk-item {position: relative;z-index: 1;}#sk-container-id-2 div.sk-parallel {display: flex;align-items: stretch;justify-content: center;background-color: white;position: relative;}#sk-container-id-2 div.sk-item::before, #sk-container-id-2 div.sk-parallel-item::before {content: \"\";position: absolute;border-left: 1px solid gray;box-sizing: border-box;top: 0;bottom: 0;left: 50%;z-index: -1;}#sk-container-id-2 div.sk-parallel-item {display: flex;flex-direction: column;z-index: 1;position: relative;background-color: white;}#sk-container-id-2 div.sk-parallel-item:first-child::after {align-self: flex-end;width: 50%;}#sk-container-id-2 div.sk-parallel-item:last-child::after {align-self: flex-start;width: 50%;}#sk-container-id-2 div.sk-parallel-item:only-child::after {width: 0;}#sk-container-id-2 div.sk-dashed-wrapped {border: 1px dashed gray;margin: 0 0.4em 0.5em 0.4em;box-sizing: border-box;padding-bottom: 0.4em;background-color: white;}#sk-container-id-2 div.sk-label label {font-family: monospace;font-weight: bold;display: inline-block;line-height: 1.2em;}#sk-container-id-2 div.sk-label-container {text-align: center;}#sk-container-id-2 div.sk-container {/* jupyter's `normalize.less` sets `[hidden] { display: none; }` but bootstrap.min.css set `[hidden] { display: none !important; }` so we also need the `!important` here to be able to override the default hidden behavior on the sphinx rendered scikit-learn.org. See: https://github.com/scikit-learn/scikit-learn/issues/21755 */display: inline-block !important;position: relative;}#sk-container-id-2 div.sk-text-repr-fallback {display: none;}</style><div id=\"sk-container-id-2\" class=\"sk-top-container\"><div class=\"sk-text-repr-fallback\"><pre>Pipeline(steps=[(&#x27;vectorizer&#x27;, CountVectorizer(max_features=1000)),\n",
       "                (&#x27;classifier&#x27;, MultinomialNB(alpha=0.1))])</pre><b>In a Jupyter environment, please rerun this cell to show the HTML representation or trust the notebook. <br />On GitHub, the HTML representation is unable to render, please try loading this page with nbviewer.org.</b></div><div class=\"sk-container\" hidden><div class=\"sk-item sk-dashed-wrapped\"><div class=\"sk-label-container\"><div class=\"sk-label sk-toggleable\"><input class=\"sk-toggleable__control sk-hidden--visually\" id=\"sk-estimator-id-5\" type=\"checkbox\" ><label for=\"sk-estimator-id-5\" class=\"sk-toggleable__label sk-toggleable__label-arrow\">Pipeline</label><div class=\"sk-toggleable__content\"><pre>Pipeline(steps=[(&#x27;vectorizer&#x27;, CountVectorizer(max_features=1000)),\n",
       "                (&#x27;classifier&#x27;, MultinomialNB(alpha=0.1))])</pre></div></div></div><div class=\"sk-serial\"><div class=\"sk-item\"><div class=\"sk-estimator sk-toggleable\"><input class=\"sk-toggleable__control sk-hidden--visually\" id=\"sk-estimator-id-6\" type=\"checkbox\" ><label for=\"sk-estimator-id-6\" class=\"sk-toggleable__label sk-toggleable__label-arrow\">CountVectorizer</label><div class=\"sk-toggleable__content\"><pre>CountVectorizer(max_features=1000)</pre></div></div></div><div class=\"sk-item\"><div class=\"sk-estimator sk-toggleable\"><input class=\"sk-toggleable__control sk-hidden--visually\" id=\"sk-estimator-id-7\" type=\"checkbox\" ><label for=\"sk-estimator-id-7\" class=\"sk-toggleable__label sk-toggleable__label-arrow\">MultinomialNB</label><div class=\"sk-toggleable__content\"><pre>MultinomialNB(alpha=0.1)</pre></div></div></div></div></div></div></div>"
      ],
      "text/plain": [
       "Pipeline(steps=[('vectorizer', CountVectorizer(max_features=1000)),\n",
       "                ('classifier', MultinomialNB(alpha=0.1))])"
      ]
     },
     "execution_count": 32,
     "metadata": {},
     "output_type": "execute_result"
    }
   ],
   "source": [
    "grid_search.best_estimator_"
   ]
  },
  {
   "cell_type": "code",
   "execution_count": 33,
   "id": "5d052ef9",
   "metadata": {
    "ExecuteTime": {
     "end_time": "2024-07-02T12:56:11.780531Z",
     "start_time": "2024-07-02T12:56:11.706415Z"
    }
   },
   "outputs": [
    {
     "name": "stdout",
     "output_type": "stream",
     "text": [
      "              precision    recall  f1-score   support\n",
      "\n",
      "           0       1.00      1.00      1.00         1\n",
      "           1       1.00      1.00      1.00         4\n",
      "           2       1.00      1.00      1.00         4\n",
      "           3       1.00      1.00      1.00         7\n",
      "\n",
      "    accuracy                           1.00        16\n",
      "   macro avg       1.00      1.00      1.00        16\n",
      "weighted avg       1.00      1.00      1.00        16\n",
      "\n"
     ]
    }
   ],
   "source": [
    "print(classification_report(grid_search.predict(X_test), y_test))"
   ]
  },
  {
   "cell_type": "code",
   "execution_count": 34,
   "id": "c3227786",
   "metadata": {
    "ExecuteTime": {
     "end_time": "2024-07-02T12:56:12.404990Z",
     "start_time": "2024-07-02T12:56:12.396422Z"
    }
   },
   "outputs": [],
   "source": [
    "import pickle"
   ]
  },
  {
   "cell_type": "code",
   "execution_count": 40,
   "id": "75596625",
   "metadata": {
    "ExecuteTime": {
     "end_time": "2024-07-02T12:59:33.963244Z",
     "start_time": "2024-07-02T12:59:33.936593Z"
    }
   },
   "outputs": [],
   "source": [
    "with open(\"grid_search_1.pkl\", \"wb\") as f:  \n",
    "    pickle.dump(grid_search, f)"
   ]
  },
  {
   "cell_type": "code",
   "execution_count": 41,
   "id": "76c25b38",
   "metadata": {
    "ExecuteTime": {
     "end_time": "2024-07-02T12:59:34.744566Z",
     "start_time": "2024-07-02T12:59:34.728481Z"
    }
   },
   "outputs": [],
   "source": [
    "with open(\"grid_search_1.pkl\", \"rb\") as f:  \n",
    "    pickle.load(f)"
   ]
  },
  {
   "cell_type": "code",
   "execution_count": 42,
   "id": "91d284fd",
   "metadata": {
    "ExecuteTime": {
     "end_time": "2024-07-02T13:00:03.657720Z",
     "start_time": "2024-07-02T13:00:03.376241Z"
    }
   },
   "outputs": [
    {
     "data": {
      "text/plain": [
       "<Axes: ylabel='count'>"
      ]
     },
     "execution_count": 42,
     "metadata": {},
     "output_type": "execute_result"
    },
    {
     "data": {
      "image/png": "[encoded data removed]",
      "text/plain": [
       "<Figure size 640x480 with 1 Axes>"
      ]
     },
     "metadata": {},
     "output_type": "display_data"
    }
   ],
   "source": [
    "df[\"label\"].value_counts().plot(kind=\"pie\", autopct=\"%.2f%%\")"
   ]
  },
  {
   "cell_type": "markdown",
   "id": "dd640646",
   "metadata": {},
   "source": [
    "label \n",
    " - 3 Workday\n",
    " - 0 PeopleSoft\n",
    " - 2 SQL Developer\n",
    " - 1 React Developer"
   ]
  },
  {
   "cell_type": "code",
   "execution_count": 43,
   "id": "cc721bda",
   "metadata": {
    "ExecuteTime": {
     "end_time": "2024-07-02T13:00:04.907565Z",
     "start_time": "2024-07-02T13:00:04.865176Z"
    }
   },
   "outputs": [],
   "source": [
    "skills = df[df[\"label\"] == 3][\"skills\"]"
   ]
  },
  {
   "cell_type": "code",
   "execution_count": 44,
   "id": "1bf4cf7e",
   "metadata": {
    "ExecuteTime": {
     "end_time": "2024-07-02T13:00:05.527013Z",
     "start_time": "2024-07-02T13:00:05.487867Z"
    }
   },
   "outputs": [],
   "source": [
    "import ast\n",
    "df[\"skills\"] = df[\"skills\"].apply(ast.literal_eval)"
   ]
  },
  {
   "cell_type": "code",
   "execution_count": 45,
   "id": "949013ef",
   "metadata": {
    "ExecuteTime": {
     "end_time": "2024-07-02T13:00:06.394052Z",
     "start_time": "2024-07-02T13:00:06.375235Z"
    }
   },
   "outputs": [
    {
     "data": {
      "text/plain": [
       "57    ['Writing', 'Payroll', 'Prototyping', 'System'...\n",
       "58    ['Writing', 'Payroll', 'System', 'Testing', 'P...\n",
       "59    ['Unix', 'Payroll', 'Prototyping', 'Software e...\n",
       "60    ['Debugging', 'Unix', 'Payroll', 'Vendors', 'P...\n",
       "61    ['Staffing', 'Process', 'Queries', 'Matrix', '...\n",
       "62    ['Payroll', 'Vendors', 'Html', 'Erp', 'Program...\n",
       "63    ['Payroll', 'System', 'Erp', 'Testing', 'Payme...\n",
       "64    ['System', 'Testing', 'Mechanical engineering'...\n",
       "65    ['Debugging', 'Writing', 'Payroll', 'System', ...\n",
       "66    ['Payroll', 'Vendors', 'System', 'Testing', 'P...\n",
       "67    ['Writing', 'Payroll', 'Emea', 'System', 'Test...\n",
       "68    ['Writing', 'Powerpoint', 'System', 'Erp', 'Ex...\n",
       "69    ['Schedules', 'Payroll', 'Programming', 'Testi...\n",
       "70    ['Writing', 'Payroll', 'Vendors', 'System', 'E...\n",
       "71    ['Schedules', 'Writing', 'System', 'Erp', 'Tes...\n",
       "72    ['Social media', 'Payroll', 'Vendors', 'Data e...\n",
       "73    ['Writing', 'Payroll', 'Agile', 'Vendors', 'Sy...\n",
       "74    ['Writing', 'Payroll', 'System', 'Erp', 'Testi...\n",
       "75    ['Payroll', 'Vendors', 'System', 'Erp', 'Payme...\n",
       "76    ['Writing', 'Payroll', 'Vendors', 'System', 'P...\n",
       "77    ['Writing', 'Payroll', 'Vendors', 'Powerpoint'...\n",
       "Name: skills, dtype: object"
      ]
     },
     "execution_count": 45,
     "metadata": {},
     "output_type": "execute_result"
    }
   ],
   "source": [
    "skills"
   ]
  },
  {
   "cell_type": "code",
   "execution_count": 46,
   "id": "c58a11a3",
   "metadata": {
    "ExecuteTime": {
     "end_time": "2024-07-02T13:00:07.069476Z",
     "start_time": "2024-07-02T13:00:07.019828Z"
    }
   },
   "outputs": [],
   "source": [
    "from collections import Counter\n",
    "\n",
    "all_skills = [skill for sublist in df[df[\"label\"] == 0][\"skills\"] for skill in sublist]\n",
    "skill_counts = Counter(all_skills)\n",
    "top_skills = skill_counts.most_common(20)"
   ]
  },
  {
   "cell_type": "code",
   "execution_count": 47,
   "id": "17499fb4",
   "metadata": {
    "ExecuteTime": {
     "end_time": "2024-07-02T13:00:07.765934Z",
     "start_time": "2024-07-02T13:00:07.749705Z"
    }
   },
   "outputs": [
    {
     "data": {
      "text/plain": [
       "['Peoplesoft',\n",
       " 'Process',\n",
       " 'Oracle',\n",
       " 'Reports',\n",
       " 'System',\n",
       " 'Testing',\n",
       " 'Database',\n",
       " 'Technical',\n",
       " 'Windows',\n",
       " 'Sql',\n",
       " 'Security',\n",
       " 'Architecture',\n",
       " 'Administration',\n",
       " 'Servers',\n",
       " 'Unix',\n",
       " 'Installation',\n",
       " 'Troubleshooting',\n",
       " 'Tax',\n",
       " 'Finance',\n",
       " 'Migration']"
      ]
     },
     "execution_count": 47,
     "metadata": {},
     "output_type": "execute_result"
    }
   ],
   "source": [
    "[skill[0] for skill in top_skills]"
   ]
  },
  {
   "cell_type": "code",
   "execution_count": 48,
   "id": "36d71e45",
   "metadata": {
    "ExecuteTime": {
     "end_time": "2024-07-02T13:00:08.617506Z",
     "start_time": "2024-07-02T13:00:08.557508Z"
    }
   },
   "outputs": [],
   "source": [
    "df = df.drop(columns =[\"Unnamed: 0\", \"email\", \"name\"])"
   ]
  },
  {
   "cell_type": "code",
   "execution_count": null,
   "id": "c63f375e",
   "metadata": {
    "ExecuteTime": {
     "end_time": "2024-07-02T12:36:08.210911Z",
     "start_time": "2024-07-02T12:36:08.210911Z"
    }
   },
   "outputs": [],
   "source": [
    "df.to_csv(\"final_df.csv\")"
   ]
  },
  {
   "cell_type": "code",
   "execution_count": 22,
   "id": "114e9fa6",
   "metadata": {
    "ExecuteTime": {
     "end_time": "2024-07-02T15:10:04.270353Z",
     "start_time": "2024-07-02T15:10:02.598427Z"
    }
   },
   "outputs": [
    {
     "name": "stdout",
     "output_type": "stream",
     "text": [
      "1.5.0\n"
     ]
    }
   ],
   "source": [
    "import sklearn\n",
    "print(sklearn.__version__)"
   ]
  },
  {
   "cell_type": "code",
   "execution_count": 1,
   "id": "9565eef1",
   "metadata": {
    "ExecuteTime": {
     "end_time": "2024-07-02T15:05:56.378770Z",
     "start_time": "2024-07-02T15:05:56.373742Z"
    }
   },
   "outputs": [
    {
     "name": "stdout",
     "output_type": "stream",
     "text": [
      "3.11.5 | packaged by Anaconda, Inc. | (main, Sep 11 2023, 13:26:23) [MSC v.1916 64 bit (AMD64)]\n"
     ]
    }
   ],
   "source": [
    "import sys\n",
    "print(sys.version)"
   ]
  },
  {
   "cell_type": "code",
   "execution_count": 3,
   "id": "854f8cea-4be5-4d02-b97d-ec7ef5aab936",
   "metadata": {
    "ExecuteTime": {
     "end_time": "2024-07-02T15:06:25.922650Z",
     "start_time": "2024-07-02T15:06:25.917971Z"
    }
   },
   "outputs": [
    {
     "name": "stdout",
     "output_type": "stream",
     "text": [
      "2.2.2\n"
     ]
    }
   ],
   "source": [
    "import pandas \n",
    "print(pandas.__version__)"
   ]
  },
  {
   "cell_type": "code",
   "execution_count": 4,
   "id": "90da5650",
   "metadata": {
    "ExecuteTime": {
     "end_time": "2024-07-02T15:06:39.184904Z",
     "start_time": "2024-07-02T15:06:39.180734Z"
    }
   },
   "outputs": [
    {
     "name": "stdout",
     "output_type": "stream",
     "text": [
      "1.24.3\n"
     ]
    }
   ],
   "source": [
    "import numpy \n",
    "print(numpy.__version__)"
   ]
  },
  {
   "cell_type": "code",
   "execution_count": null,
   "id": "2f9aea1c",
   "metadata": {},
   "outputs": [],
   "source": [
    "d"
   ]
  }
 ],
 "metadata": {
  "kernelspec": {
   "display_name": "Python 3 (ipykernel)",
   "language": "python",
   "name": "python3"
  },
  "language_info": {
   "codemirror_mode": {
    "name": "ipython",
    "version": 3
   },
   "file_extension": ".py",
   "mimetype": "text/x-python",
   "name": "python",
   "nbconvert_exporter": "python",
   "pygments_lexer": "ipython3",
   "version": "3.9.19"
  },
  "toc": {
   "base_numbering": 1,
   "nav_menu": {},
   "number_sections": true,
   "sideBar": true,
   "skip_h1_title": false,
   "title_cell": "Table of Contents",
   "title_sidebar": "Contents",
   "toc_cell": false,
   "toc_position": {},
   "toc_section_display": true,
   "toc_window_display": false
  },
  "varInspector": {
   "cols": {
    "lenName": 16,
    "lenType": 16,
    "lenVar": 40
   },
   "kernels_config": {
    "python": {
     "delete_cmd_postfix": "",
     "delete_cmd_prefix": "del ",
     "library": "var_list.py",
     "varRefreshCmd": "print(var_dic_list())"
    },
    "r": {
     "delete_cmd_postfix": ") ",
     "delete_cmd_prefix": "rm(",
     "library": "var_list.r",
     "varRefreshCmd": "cat(var_dic_list()) "
    }
   },
   "types_to_exclude": [
    "module",
    "function",
    "builtin_function_or_method",
    "instance",
    "_Feature"
   ],
   "window_display": false
  }
 },
 "nbformat": 4,
 "nbformat_minor": 5
}
