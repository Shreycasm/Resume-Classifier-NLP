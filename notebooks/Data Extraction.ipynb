{
 "cells": [
  {
   "cell_type": "code",
   "execution_count": 1,
   "id": "ffae85f8",
   "metadata": {
    "ExecuteTime": {
     "end_time": "2024-03-27T08:47:01.538646Z",
     "start_time": "2024-03-27T08:47:00.903464Z"
    }
   },
   "outputs": [],
   "source": [
    "import os\n",
    "import pandas as pd\n",
    "import textract\n",
    "from win32com import client as wc\n",
    "import docx\n"
   ]
  },
  {
   "cell_type": "code",
   "execution_count": 3,
   "id": "14172af1",
   "metadata": {
    "ExecuteTime": {
     "end_time": "2024-03-20T05:05:47.594438Z",
     "start_time": "2024-03-20T05:05:47.569223Z"
    }
   },
   "outputs": [
    {
     "data": {
      "text/plain": [
       "'D:\\\\Ds\\\\projects\\\\excelR nlp'"
      ]
     },
     "execution_count": 3,
     "metadata": {},
     "output_type": "execute_result"
    }
   ],
   "source": [
    "os.getcwd()"
   ]
  },
  {
   "cell_type": "code",
   "execution_count": 4,
   "id": "7e84c757",
   "metadata": {
    "ExecuteTime": {
     "end_time": "2024-03-20T05:05:48.205292Z",
     "start_time": "2024-03-20T05:05:48.194768Z"
    }
   },
   "outputs": [],
   "source": [
    "os.chdir(\"./P-344 Dataset/Resumes_Docx\")"
   ]
  },
  {
   "cell_type": "code",
   "execution_count": 5,
   "id": "43226df1",
   "metadata": {
    "ExecuteTime": {
     "end_time": "2024-03-20T05:05:48.781116Z",
     "start_time": "2024-03-20T05:05:48.770854Z"
    }
   },
   "outputs": [],
   "source": [
    "category  = os.listdir()"
   ]
  },
  {
   "cell_type": "code",
   "execution_count": 6,
   "id": "f4c9d557",
   "metadata": {
    "ExecuteTime": {
     "end_time": "2024-03-20T05:05:49.260219Z",
     "start_time": "2024-03-20T05:05:49.245821Z"
    }
   },
   "outputs": [
    {
     "data": {
      "text/plain": [
       "['Peoplesoft',\n",
       " 'Peoplesoft Resume',\n",
       " 'React Developer',\n",
       " 'SQL Developer',\n",
       " 'workday']"
      ]
     },
     "execution_count": 6,
     "metadata": {},
     "output_type": "execute_result"
    }
   ],
   "source": [
    "category"
   ]
  },
  {
   "cell_type": "code",
   "execution_count": 7,
   "id": "409da9f8",
   "metadata": {
    "ExecuteTime": {
     "end_time": "2024-03-20T05:05:49.749274Z",
     "start_time": "2024-03-20T05:05:49.730150Z"
    }
   },
   "outputs": [
    {
     "data": {
      "text/plain": [
       "['D:\\\\Ds\\\\projects\\\\excelR nlp\\\\P-344 Dataset\\\\Resumes_Docx\\\\Peoplesoft',\n",
       " 'D:\\\\Ds\\\\projects\\\\excelR nlp\\\\P-344 Dataset\\\\Resumes_Docx\\\\Peoplesoft Resume',\n",
       " 'D:\\\\Ds\\\\projects\\\\excelR nlp\\\\P-344 Dataset\\\\Resumes_Docx\\\\React Developer',\n",
       " 'D:\\\\Ds\\\\projects\\\\excelR nlp\\\\P-344 Dataset\\\\Resumes_Docx\\\\SQL Developer',\n",
       " 'D:\\\\Ds\\\\projects\\\\excelR nlp\\\\P-344 Dataset\\\\Resumes_Docx\\\\workday']"
      ]
     },
     "execution_count": 7,
     "metadata": {},
     "output_type": "execute_result"
    }
   ],
   "source": [
    "category_paths = []\n",
    "for i in category:\n",
    "    category_paths.append(os.path.join(os.getcwd() ,i ))\n",
    "category_paths"
   ]
  },
  {
   "cell_type": "code",
   "execution_count": 8,
   "id": "cddb1945",
   "metadata": {
    "ExecuteTime": {
     "end_time": "2024-03-20T05:05:50.477671Z",
     "start_time": "2024-03-20T05:05:50.459027Z"
    },
    "scrolled": true
   },
   "outputs": [],
   "source": [
    "category_file_paths = {}\n",
    "\n",
    "for i , path in enumerate(category_paths):\n",
    "    files = os.listdir(path)\n",
    "    file_paths = [os.path.join(path, file) for file in files]\n",
    "    category_file_paths[category[i]] = file_paths\n",
    "\n"
   ]
  },
  {
   "cell_type": "code",
   "execution_count": 9,
   "id": "23adbdd7",
   "metadata": {
    "ExecuteTime": {
     "end_time": "2024-03-20T05:05:51.736286Z",
     "start_time": "2024-03-20T05:05:51.716279Z"
    },
    "scrolled": true
   },
   "outputs": [
    {
     "data": {
      "text/plain": [
       "{'Peoplesoft': ['D:\\\\Ds\\\\projects\\\\excelR nlp\\\\P-344 Dataset\\\\Resumes_Docx\\\\Peoplesoft\\\\Peoplesoft Admin_G Ananda Rayudu.docx'],\n",
       " 'Peoplesoft Resume': ['D:\\\\Ds\\\\projects\\\\excelR nlp\\\\P-344 Dataset\\\\Resumes_Docx\\\\Peoplesoft Resume\\\\Peoplesoft Admin_AnubhavSingh.docx',\n",
       "  'D:\\\\Ds\\\\projects\\\\excelR nlp\\\\P-344 Dataset\\\\Resumes_Docx\\\\Peoplesoft Resume\\\\Peoplesoft Admin_G Ananda Rayudu.doc',\n",
       "  'D:\\\\Ds\\\\projects\\\\excelR nlp\\\\P-344 Dataset\\\\Resumes_Docx\\\\Peoplesoft Resume\\\\Peoplesoft Admin_G Ananda Rayudu.docx',\n",
       "  'D:\\\\Ds\\\\projects\\\\excelR nlp\\\\P-344 Dataset\\\\Resumes_Docx\\\\Peoplesoft Resume\\\\Peoplesoft Admin_Gangareddy.doc',\n",
       "  'D:\\\\Ds\\\\projects\\\\excelR nlp\\\\P-344 Dataset\\\\Resumes_Docx\\\\Peoplesoft Resume\\\\Peoplesoft Admin_Gangareddy.docx',\n",
       "  'D:\\\\Ds\\\\projects\\\\excelR nlp\\\\P-344 Dataset\\\\Resumes_Docx\\\\Peoplesoft Resume\\\\Peoplesoft Admin_Murali.docx',\n",
       "  'D:\\\\Ds\\\\projects\\\\excelR nlp\\\\P-344 Dataset\\\\Resumes_Docx\\\\Peoplesoft Resume\\\\Peoplesoft Admin_Priyanka Ramadoss.doc',\n",
       "  'D:\\\\Ds\\\\projects\\\\excelR nlp\\\\P-344 Dataset\\\\Resumes_Docx\\\\Peoplesoft Resume\\\\Peoplesoft Admin_Priyanka Ramadoss.docx',\n",
       "  'D:\\\\Ds\\\\projects\\\\excelR nlp\\\\P-344 Dataset\\\\Resumes_Docx\\\\Peoplesoft Resume\\\\Peoplesoft Admin_SirazuddinMohammad.docx',\n",
       "  'D:\\\\Ds\\\\projects\\\\excelR nlp\\\\P-344 Dataset\\\\Resumes_Docx\\\\Peoplesoft Resume\\\\Peoplesoft Admin_srinivasarao.doc',\n",
       "  'D:\\\\Ds\\\\projects\\\\excelR nlp\\\\P-344 Dataset\\\\Resumes_Docx\\\\Peoplesoft Resume\\\\Peoplesoft Admin_srinivasarao.docx',\n",
       "  'D:\\\\Ds\\\\projects\\\\excelR nlp\\\\P-344 Dataset\\\\Resumes_Docx\\\\Peoplesoft Resume\\\\Peoplesoft Admin_Varkala Vikas.docx',\n",
       "  'D:\\\\Ds\\\\projects\\\\excelR nlp\\\\P-344 Dataset\\\\Resumes_Docx\\\\Peoplesoft Resume\\\\Peoplesoft Admin_Vinod Akkala.doc',\n",
       "  'D:\\\\Ds\\\\projects\\\\excelR nlp\\\\P-344 Dataset\\\\Resumes_Docx\\\\Peoplesoft Resume\\\\Peoplesoft Admin_Vinod Akkala.docx',\n",
       "  'D:\\\\Ds\\\\projects\\\\excelR nlp\\\\P-344 Dataset\\\\Resumes_Docx\\\\Peoplesoft Resume\\\\PeopleSoft DBA_Ganesh Alladi.doc',\n",
       "  'D:\\\\Ds\\\\projects\\\\excelR nlp\\\\P-344 Dataset\\\\Resumes_Docx\\\\Peoplesoft Resume\\\\PeopleSoft DBA_Ganesh Alladi.docx',\n",
       "  'D:\\\\Ds\\\\projects\\\\excelR nlp\\\\P-344 Dataset\\\\Resumes_Docx\\\\Peoplesoft Resume\\\\PeopleSoft DBA_Vivekanand Sayana.docx',\n",
       "  'D:\\\\Ds\\\\projects\\\\excelR nlp\\\\P-344 Dataset\\\\Resumes_Docx\\\\Peoplesoft Resume\\\\Peoplesoft Finance_Arun Venu.doc',\n",
       "  'D:\\\\Ds\\\\projects\\\\excelR nlp\\\\P-344 Dataset\\\\Resumes_Docx\\\\Peoplesoft Resume\\\\Peoplesoft Finance_Arun Venu.docx',\n",
       "  'D:\\\\Ds\\\\projects\\\\excelR nlp\\\\P-344 Dataset\\\\Resumes_Docx\\\\Peoplesoft Resume\\\\Peoplesoft Finance_Pritam Biswas.doc',\n",
       "  'D:\\\\Ds\\\\projects\\\\excelR nlp\\\\P-344 Dataset\\\\Resumes_Docx\\\\Peoplesoft Resume\\\\Peoplesoft Finance_Pritam Biswas.docx',\n",
       "  'D:\\\\Ds\\\\projects\\\\excelR nlp\\\\P-344 Dataset\\\\Resumes_Docx\\\\Peoplesoft Resume\\\\Peoplesoft Finance_Rahul Ahuja.doc',\n",
       "  'D:\\\\Ds\\\\projects\\\\excelR nlp\\\\P-344 Dataset\\\\Resumes_Docx\\\\Peoplesoft Resume\\\\Peoplesoft Finance_Rahul Ahuja.docx',\n",
       "  'D:\\\\Ds\\\\projects\\\\excelR nlp\\\\P-344 Dataset\\\\Resumes_Docx\\\\Peoplesoft Resume\\\\Peoplesoft FSCM_HariNarayana.docx',\n",
       "  'D:\\\\Ds\\\\projects\\\\excelR nlp\\\\P-344 Dataset\\\\Resumes_Docx\\\\Peoplesoft Resume\\\\Peoplesoft FSCM_Murali.docx',\n",
       "  'D:\\\\Ds\\\\projects\\\\excelR nlp\\\\P-344 Dataset\\\\Resumes_Docx\\\\Peoplesoft Resume\\\\Peoplesoft FSCM_PriyabrataHota.docx',\n",
       "  'D:\\\\Ds\\\\projects\\\\excelR nlp\\\\P-344 Dataset\\\\Resumes_Docx\\\\Peoplesoft Resume\\\\Peoplesoft FSCM_R Ahmed.doc',\n",
       "  'D:\\\\Ds\\\\projects\\\\excelR nlp\\\\P-344 Dataset\\\\Resumes_Docx\\\\Peoplesoft Resume\\\\Peoplesoft FSCM_R Ahmed.docx',\n",
       "  'D:\\\\Ds\\\\projects\\\\excelR nlp\\\\P-344 Dataset\\\\Resumes_Docx\\\\Peoplesoft Resume\\\\Peoplesoft FSCM_SUJATHA.docx',\n",
       "  'D:\\\\Ds\\\\projects\\\\excelR nlp\\\\P-344 Dataset\\\\Resumes_Docx\\\\Peoplesoft Resume\\\\Resume_Subha Santosh_Peoplesoft FSCM.docx'],\n",
       " 'React Developer': ['D:\\\\Ds\\\\projects\\\\excelR nlp\\\\P-344 Dataset\\\\Resumes_Docx\\\\React Developer\\\\Internship_Ravali_Musquare Technologies (1).docx',\n",
       "  'D:\\\\Ds\\\\projects\\\\excelR nlp\\\\P-344 Dataset\\\\Resumes_Docx\\\\React Developer\\\\Internship_Susovan Bag_Musquare Technologies.docx',\n",
       "  'D:\\\\Ds\\\\projects\\\\excelR nlp\\\\P-344 Dataset\\\\Resumes_Docx\\\\React Developer\\\\React Developer_Deepakreddy.docx',\n",
       "  'D:\\\\Ds\\\\projects\\\\excelR nlp\\\\P-344 Dataset\\\\Resumes_Docx\\\\React Developer\\\\React Developer_Haripriya.docx',\n",
       "  'D:\\\\Ds\\\\projects\\\\excelR nlp\\\\P-344 Dataset\\\\Resumes_Docx\\\\React Developer\\\\React Developer_Kamalakar Reddy.docx',\n",
       "  'D:\\\\Ds\\\\projects\\\\excelR nlp\\\\P-344 Dataset\\\\Resumes_Docx\\\\React Developer\\\\React Developer_Naveen sadhu.docx',\n",
       "  'D:\\\\Ds\\\\projects\\\\excelR nlp\\\\P-344 Dataset\\\\Resumes_Docx\\\\React Developer\\\\React Developer_PavasGoswami.doc',\n",
       "  'D:\\\\Ds\\\\projects\\\\excelR nlp\\\\P-344 Dataset\\\\Resumes_Docx\\\\React Developer\\\\React Developer_PavasGoswami.docx',\n",
       "  'D:\\\\Ds\\\\projects\\\\excelR nlp\\\\P-344 Dataset\\\\Resumes_Docx\\\\React Developer\\\\React Developer_Pragnya.docx',\n",
       "  'D:\\\\Ds\\\\projects\\\\excelR nlp\\\\P-344 Dataset\\\\Resumes_Docx\\\\React Developer\\\\React Developer_Sarala Madasu-converted.docx',\n",
       "  'D:\\\\Ds\\\\projects\\\\excelR nlp\\\\P-344 Dataset\\\\Resumes_Docx\\\\React Developer\\\\React Developer_Thirupathiamma.docx',\n",
       "  'D:\\\\Ds\\\\projects\\\\excelR nlp\\\\P-344 Dataset\\\\Resumes_Docx\\\\React Developer\\\\React Developer_Vinay Reddy.doc',\n",
       "  'D:\\\\Ds\\\\projects\\\\excelR nlp\\\\P-344 Dataset\\\\Resumes_Docx\\\\React Developer\\\\React Developer_Vinay Reddy.docx',\n",
       "  'D:\\\\Ds\\\\projects\\\\excelR nlp\\\\P-344 Dataset\\\\Resumes_Docx\\\\React Developer\\\\React Dev_Krishna Kanth.docx',\n",
       "  'D:\\\\Ds\\\\projects\\\\excelR nlp\\\\P-344 Dataset\\\\Resumes_Docx\\\\React Developer\\\\React Dev_Krishna Kanth_Musquare Technologies.docx',\n",
       "  'D:\\\\Ds\\\\projects\\\\excelR nlp\\\\P-344 Dataset\\\\Resumes_Docx\\\\React Developer\\\\React JS Developer_AnjaniPriyadarshini.doc',\n",
       "  'D:\\\\Ds\\\\projects\\\\excelR nlp\\\\P-344 Dataset\\\\Resumes_Docx\\\\React Developer\\\\React JS Developer_AnjaniPriyadarshini.docx',\n",
       "  'D:\\\\Ds\\\\projects\\\\excelR nlp\\\\P-344 Dataset\\\\Resumes_Docx\\\\React Developer\\\\React JS Developer_KotaniDurgaprasad[3_1] (1)-converted.docx',\n",
       "  'D:\\\\Ds\\\\projects\\\\excelR nlp\\\\P-344 Dataset\\\\Resumes_Docx\\\\React Developer\\\\React JS Developer_Venkatalakshmi (1)-converted.docx',\n",
       "  'D:\\\\Ds\\\\projects\\\\excelR nlp\\\\P-344 Dataset\\\\Resumes_Docx\\\\React Developer\\\\Reactjs Developer_kambala sai surendra_Musquare Technologies.docx',\n",
       "  'D:\\\\Ds\\\\projects\\\\excelR nlp\\\\P-344 Dataset\\\\Resumes_Docx\\\\React Developer\\\\Reactjs Developer_M Lokesh Babu_Musquare Technologies.docx',\n",
       "  'D:\\\\Ds\\\\projects\\\\excelR nlp\\\\P-344 Dataset\\\\Resumes_Docx\\\\React Developer\\\\Reactjs Developer_M Lokesh.docx',\n",
       "  'D:\\\\Ds\\\\projects\\\\excelR nlp\\\\P-344 Dataset\\\\Resumes_Docx\\\\React Developer\\\\Reactjs Developer_MD Khizaruddin Rauf _Musquare Technologies.docx',\n",
       "  'D:\\\\Ds\\\\projects\\\\excelR nlp\\\\P-344 Dataset\\\\Resumes_Docx\\\\React Developer\\\\Reactjs Developer_Prabakaran_Musquare Technologies.pdf',\n",
       "  'D:\\\\Ds\\\\projects\\\\excelR nlp\\\\P-344 Dataset\\\\Resumes_Docx\\\\React Developer\\\\Reactjs Developer_Pranish Sonone_Musquare Technologies.docx',\n",
       "  'D:\\\\Ds\\\\projects\\\\excelR nlp\\\\P-344 Dataset\\\\Resumes_Docx\\\\React Developer\\\\Reactjs Developer_Ranga Gaganam_Musquare Technologies.docx',\n",
       "  'D:\\\\Ds\\\\projects\\\\excelR nlp\\\\P-344 Dataset\\\\Resumes_Docx\\\\React Developer\\\\Reactjs Developer_Shaik Abdul Sharuk_Musquare Technologies.docx'],\n",
       " 'SQL Developer': ['D:\\\\Ds\\\\projects\\\\excelR nlp\\\\P-344 Dataset\\\\Resumes_Docx\\\\SQL Developer\\\\Anil kumar.docx',\n",
       "  'D:\\\\Ds\\\\projects\\\\excelR nlp\\\\P-344 Dataset\\\\Resumes_Docx\\\\SQL Developer\\\\AradhanaTripathi[4_0].docx',\n",
       "  'D:\\\\Ds\\\\projects\\\\excelR nlp\\\\P-344 Dataset\\\\Resumes_Docx\\\\SQL Developer\\\\Buddha Vamsi.docx',\n",
       "  'D:\\\\Ds\\\\projects\\\\excelR nlp\\\\P-344 Dataset\\\\Resumes_Docx\\\\SQL Developer\\\\kamballapradeep.docx',\n",
       "  'D:\\\\Ds\\\\projects\\\\excelR nlp\\\\P-344 Dataset\\\\Resumes_Docx\\\\SQL Developer\\\\Nazeer Basha.doc',\n",
       "  'D:\\\\Ds\\\\projects\\\\excelR nlp\\\\P-344 Dataset\\\\Resumes_Docx\\\\SQL Developer\\\\Nazeer Basha.docx',\n",
       "  'D:\\\\Ds\\\\projects\\\\excelR nlp\\\\P-344 Dataset\\\\Resumes_Docx\\\\SQL Developer\\\\Neeraj Mishra.docx',\n",
       "  'D:\\\\Ds\\\\projects\\\\excelR nlp\\\\P-344 Dataset\\\\Resumes_Docx\\\\SQL Developer\\\\premsai.docx',\n",
       "  'D:\\\\Ds\\\\projects\\\\excelR nlp\\\\P-344 Dataset\\\\Resumes_Docx\\\\SQL Developer\\\\Priyanka L.doc',\n",
       "  'D:\\\\Ds\\\\projects\\\\excelR nlp\\\\P-344 Dataset\\\\Resumes_Docx\\\\SQL Developer\\\\Priyanka L.docx',\n",
       "  'D:\\\\Ds\\\\projects\\\\excelR nlp\\\\P-344 Dataset\\\\Resumes_Docx\\\\SQL Developer\\\\PSyamKumar[2_3].docx',\n",
       "  'D:\\\\Ds\\\\projects\\\\excelR nlp\\\\P-344 Dataset\\\\Resumes_Docx\\\\SQL Developer\\\\Rajupavanakumari[2_10].docx',\n",
       "  'D:\\\\Ds\\\\projects\\\\excelR nlp\\\\P-344 Dataset\\\\Resumes_Docx\\\\SQL Developer\\\\Ramalakshmi K.docx',\n",
       "  'D:\\\\Ds\\\\projects\\\\excelR nlp\\\\P-344 Dataset\\\\Resumes_Docx\\\\SQL Developer\\\\RameshNataru[3_4].docx',\n",
       "  'D:\\\\Ds\\\\projects\\\\excelR nlp\\\\P-344 Dataset\\\\Resumes_Docx\\\\SQL Developer\\\\Tatikonda Kiran Kumar.doc',\n",
       "  'D:\\\\Ds\\\\projects\\\\excelR nlp\\\\P-344 Dataset\\\\Resumes_Docx\\\\SQL Developer\\\\Tatikonda Kiran Kumar.docx',\n",
       "  'D:\\\\Ds\\\\projects\\\\excelR nlp\\\\P-344 Dataset\\\\Resumes_Docx\\\\SQL Developer\\\\Vinod B.docx'],\n",
       " 'workday': ['D:\\\\Ds\\\\projects\\\\excelR nlp\\\\P-344 Dataset\\\\Resumes_Docx\\\\workday\\\\ChinnaSubbarayuduM_Hexaware.docx',\n",
       "  'D:\\\\Ds\\\\projects\\\\excelR nlp\\\\P-344 Dataset\\\\Resumes_Docx\\\\workday\\\\Gopi Krishna_Hexaware.docx',\n",
       "  'D:\\\\Ds\\\\projects\\\\excelR nlp\\\\P-344 Dataset\\\\Resumes_Docx\\\\workday\\\\Hari Krishna M_Hexaware.doc',\n",
       "  'D:\\\\Ds\\\\projects\\\\excelR nlp\\\\P-344 Dataset\\\\Resumes_Docx\\\\workday\\\\Hari Krishna M_Hexaware.docx',\n",
       "  'D:\\\\Ds\\\\projects\\\\excelR nlp\\\\P-344 Dataset\\\\Resumes_Docx\\\\workday\\\\Harikrishna Akula_Hexaware.doc',\n",
       "  'D:\\\\Ds\\\\projects\\\\excelR nlp\\\\P-344 Dataset\\\\Resumes_Docx\\\\workday\\\\Harikrishna Akula_Hexaware.docx',\n",
       "  'D:\\\\Ds\\\\projects\\\\excelR nlp\\\\P-344 Dataset\\\\Resumes_Docx\\\\workday\\\\Hima Mendu_Hexaware.doc',\n",
       "  'D:\\\\Ds\\\\projects\\\\excelR nlp\\\\P-344 Dataset\\\\Resumes_Docx\\\\workday\\\\Hima Mendu_Hexaware.docx',\n",
       "  'D:\\\\Ds\\\\projects\\\\excelR nlp\\\\P-344 Dataset\\\\Resumes_Docx\\\\workday\\\\Himaja G_(Hexaware).docx',\n",
       "  'D:\\\\Ds\\\\projects\\\\excelR nlp\\\\P-344 Dataset\\\\Resumes_Docx\\\\workday\\\\J. Sumanth Royal_Hexaware.doc',\n",
       "  'D:\\\\Ds\\\\projects\\\\excelR nlp\\\\P-344 Dataset\\\\Resumes_Docx\\\\workday\\\\J. Sumanth Royal_Hexaware.docx',\n",
       "  'D:\\\\Ds\\\\projects\\\\excelR nlp\\\\P-344 Dataset\\\\Resumes_Docx\\\\workday\\\\Jyotiverma_Heaware.docx',\n",
       "  'D:\\\\Ds\\\\projects\\\\excelR nlp\\\\P-344 Dataset\\\\Resumes_Docx\\\\workday\\\\Madeeswar A_Hexaware.doc',\n",
       "  'D:\\\\Ds\\\\projects\\\\excelR nlp\\\\P-344 Dataset\\\\Resumes_Docx\\\\workday\\\\Madeeswar A_Hexaware.docx',\n",
       "  'D:\\\\Ds\\\\projects\\\\excelR nlp\\\\P-344 Dataset\\\\Resumes_Docx\\\\workday\\\\MooraboyinaGuravaiah_Hexaware.docx',\n",
       "  'D:\\\\Ds\\\\projects\\\\excelR nlp\\\\P-344 Dataset\\\\Resumes_Docx\\\\workday\\\\Naresh Babu Cherukuri_Hexaware.doc',\n",
       "  'D:\\\\Ds\\\\projects\\\\excelR nlp\\\\P-344 Dataset\\\\Resumes_Docx\\\\workday\\\\Naresh Babu Cherukuri_Hexaware.docx',\n",
       "  'D:\\\\Ds\\\\projects\\\\excelR nlp\\\\P-344 Dataset\\\\Resumes_Docx\\\\workday\\\\P V Sai Krishna_ Hexaware.docx',\n",
       "  'D:\\\\Ds\\\\projects\\\\excelR nlp\\\\P-344 Dataset\\\\Resumes_Docx\\\\workday\\\\Punugoti Swetha_Hexaware.doc',\n",
       "  'D:\\\\Ds\\\\projects\\\\excelR nlp\\\\P-344 Dataset\\\\Resumes_Docx\\\\workday\\\\Punugoti Swetha_Hexaware.docx',\n",
       "  'D:\\\\Ds\\\\projects\\\\excelR nlp\\\\P-344 Dataset\\\\Resumes_Docx\\\\workday\\\\RahulM_Hexaware.docx',\n",
       "  'D:\\\\Ds\\\\projects\\\\excelR nlp\\\\P-344 Dataset\\\\Resumes_Docx\\\\workday\\\\RameshP_Hexaware.docx',\n",
       "  'D:\\\\Ds\\\\projects\\\\excelR nlp\\\\P-344 Dataset\\\\Resumes_Docx\\\\workday\\\\ShireeshKumar_Hexaware.doc',\n",
       "  'D:\\\\Ds\\\\projects\\\\excelR nlp\\\\P-344 Dataset\\\\Resumes_Docx\\\\workday\\\\ShireeshKumar_Hexaware.docx',\n",
       "  'D:\\\\Ds\\\\projects\\\\excelR nlp\\\\P-344 Dataset\\\\Resumes_Docx\\\\workday\\\\Sri Krishna S_Hexaware.doc',\n",
       "  'D:\\\\Ds\\\\projects\\\\excelR nlp\\\\P-344 Dataset\\\\Resumes_Docx\\\\workday\\\\Sri Krishna S_Hexaware.docx',\n",
       "  'D:\\\\Ds\\\\projects\\\\excelR nlp\\\\P-344 Dataset\\\\Resumes_Docx\\\\workday\\\\Srikanth-Hexaware.docx',\n",
       "  'D:\\\\Ds\\\\projects\\\\excelR nlp\\\\P-344 Dataset\\\\Resumes_Docx\\\\workday\\\\SSKumar_Hexaware.docx',\n",
       "  'D:\\\\Ds\\\\projects\\\\excelR nlp\\\\P-344 Dataset\\\\Resumes_Docx\\\\workday\\\\Venkateswarlu B_Hexaware.doc',\n",
       "  'D:\\\\Ds\\\\projects\\\\excelR nlp\\\\P-344 Dataset\\\\Resumes_Docx\\\\workday\\\\Venkateswarlu B_Hexaware.docx',\n",
       "  'D:\\\\Ds\\\\projects\\\\excelR nlp\\\\P-344 Dataset\\\\Resumes_Docx\\\\workday\\\\Vinay Kumar_Hexaware.docx']}"
      ]
     },
     "execution_count": 9,
     "metadata": {},
     "output_type": "execute_result"
    }
   ],
   "source": [
    "category_file_paths"
   ]
  },
  {
   "cell_type": "code",
   "execution_count": 10,
   "id": "2dfa62f3",
   "metadata": {
    "ExecuteTime": {
     "end_time": "2024-03-20T05:05:56.833610Z",
     "start_time": "2024-03-20T05:05:53.962738Z"
    }
   },
   "outputs": [],
   "source": [
    "word_app = wc.Dispatch('Word.Application')"
   ]
  },
  {
   "cell_type": "code",
   "execution_count": null,
   "id": "e47273ea",
   "metadata": {
    "ExecuteTime": {
     "end_time": "2024-03-20T05:05:43.308103Z",
     "start_time": "2024-03-20T05:05:43.308103Z"
    }
   },
   "outputs": [],
   "source": [
    "\n",
    "\n",
    "content = []\n",
    "label = []\n",
    "\n",
    "for category, paths in category_file_paths.items():\n",
    "    for path in paths:\n",
    "        try:\n",
    "            if path.endswith(\".docx\"):\n",
    "                doc = word_app.Documents.Open(path)\n",
    "                content.append(doc.Content.Text)\n",
    "                label.append(category)\n",
    "                doc.Close()\n",
    "            elif path.endswith('.doc'):\n",
    "                doc = word_app.Documents.Open(path)\n",
    "                doc.SaveAs(path + \"x\", 16) \n",
    "                doc.Close()\n",
    "                content.append(textract.process(path + \"x\"))\n",
    "                label.append(category)\n",
    "        except Exception as e:\n",
    "            print(f\"Error processing file: {path}\")\n",
    "            print(f\"Error message: {e}\")\n",
    "\n",
    "word_app.Quit()\n",
    "\n",
    "df = pd.DataFrame(data={\"content\": content, \"label\": label})\n"
   ]
  },
  {
   "cell_type": "code",
   "execution_count": null,
   "id": "dd702a25",
   "metadata": {},
   "outputs": [],
   "source": [
    "df.to_csv(\"extracted_files.csv\")"
   ]
  }
 ],
 "metadata": {
  "kernelspec": {
   "display_name": "Python 3 (ipykernel)",
   "language": "python",
   "name": "python3"
  },
  "language_info": {
   "codemirror_mode": {
    "name": "ipython",
    "version": 3
   },
   "file_extension": ".py",
   "mimetype": "text/x-python",
   "name": "python",
   "nbconvert_exporter": "python",
   "pygments_lexer": "ipython3",
   "version": "3.11.5"
  },
  "toc": {
   "base_numbering": 1,
   "nav_menu": {},
   "number_sections": true,
   "sideBar": true,
   "skip_h1_title": false,
   "title_cell": "Table of Contents",
   "title_sidebar": "Contents",
   "toc_cell": false,
   "toc_position": {},
   "toc_section_display": true,
   "toc_window_display": false
  },
  "varInspector": {
   "cols": {
    "lenName": 16,
    "lenType": 16,
    "lenVar": 40
   },
   "kernels_config": {
    "python": {
     "delete_cmd_postfix": "",
     "delete_cmd_prefix": "del ",
     "library": "var_list.py",
     "varRefreshCmd": "print(var_dic_list())"
    },
    "r": {
     "delete_cmd_postfix": ") ",
     "delete_cmd_prefix": "rm(",
     "library": "var_list.r",
     "varRefreshCmd": "cat(var_dic_list()) "
    }
   },
   "types_to_exclude": [
    "module",
    "function",
    "builtin_function_or_method",
    "instance",
    "_Feature"
   ],
   "window_display": false
  }
 },
 "nbformat": 4,
 "nbformat_minor": 5
}
