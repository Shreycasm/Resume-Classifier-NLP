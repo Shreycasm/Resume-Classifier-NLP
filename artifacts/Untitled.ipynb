{
 "cells": [
  {
   "cell_type": "code",
   "execution_count": 4,
   "id": "81fed742",
   "metadata": {
    "ExecuteTime": {
     "end_time": "2024-07-02T15:12:33.206297Z",
     "start_time": "2024-07-02T15:12:30.614507Z"
    }
   },
   "outputs": [
    {
     "name": "stderr",
     "output_type": "stream",
     "text": [
      "C:\\Users\\shrey\\AppData\\Local\\anaconda3\\Lib\\site-packages\\sklearn\\base.py:376: InconsistentVersionWarning: Trying to unpickle estimator CountVectorizer from version 1.3.0 when using version 1.5.0. This might lead to breaking code or invalid results. Use at your own risk. For more info please refer to:\n",
      "https://scikit-learn.org/stable/model_persistence.html#security-maintainability-limitations\n",
      "  warnings.warn(\n",
      "C:\\Users\\shrey\\AppData\\Local\\anaconda3\\Lib\\site-packages\\sklearn\\base.py:376: InconsistentVersionWarning: Trying to unpickle estimator MultinomialNB from version 1.3.0 when using version 1.5.0. This might lead to breaking code or invalid results. Use at your own risk. For more info please refer to:\n",
      "https://scikit-learn.org/stable/model_persistence.html#security-maintainability-limitations\n",
      "  warnings.warn(\n",
      "C:\\Users\\shrey\\AppData\\Local\\anaconda3\\Lib\\site-packages\\sklearn\\base.py:376: InconsistentVersionWarning: Trying to unpickle estimator Pipeline from version 1.3.0 when using version 1.5.0. This might lead to breaking code or invalid results. Use at your own risk. For more info please refer to:\n",
      "https://scikit-learn.org/stable/model_persistence.html#security-maintainability-limitations\n",
      "  warnings.warn(\n"
     ]
    },
    {
     "ename": "AttributeError",
     "evalue": "Can't get attribute '_PredictScorer' on <module 'sklearn.metrics._scorer' from 'C:\\\\Users\\\\shrey\\\\AppData\\\\Local\\\\anaconda3\\\\Lib\\\\site-packages\\\\sklearn\\\\metrics\\\\_scorer.py'>",
     "output_type": "error",
     "traceback": [
      "\u001b[1;31m---------------------------------------------------------------------------\u001b[0m",
      "\u001b[1;31mAttributeError\u001b[0m                            Traceback (most recent call last)",
      "Cell \u001b[1;32mIn[4], line 3\u001b[0m\n\u001b[0;32m      1\u001b[0m \u001b[38;5;28;01mimport\u001b[39;00m \u001b[38;5;21;01mpickle\u001b[39;00m\n\u001b[0;32m      2\u001b[0m \u001b[38;5;28;01mwith\u001b[39;00m \u001b[38;5;28mopen\u001b[39m(\u001b[38;5;124m\"\u001b[39m\u001b[38;5;124mgrid_search.pkl\u001b[39m\u001b[38;5;124m\"\u001b[39m, \u001b[38;5;124m\"\u001b[39m\u001b[38;5;124mrb\u001b[39m\u001b[38;5;124m\"\u001b[39m) \u001b[38;5;28;01mas\u001b[39;00m f:\n\u001b[1;32m----> 3\u001b[0m     mod \u001b[38;5;241m=\u001b[39m pickle\u001b[38;5;241m.\u001b[39mload(f)\n",
      "\u001b[1;31mAttributeError\u001b[0m: Can't get attribute '_PredictScorer' on <module 'sklearn.metrics._scorer' from 'C:\\\\Users\\\\shrey\\\\AppData\\\\Local\\\\anaconda3\\\\Lib\\\\site-packages\\\\sklearn\\\\metrics\\\\_scorer.py'>"
     ]
    }
   ],
   "source": [
    "import pickle\n",
    "with open(\"grid_search.pkl\", \"rb\") as f:\n",
    "    mod = pickle.load(f)"
   ]
  },
  {
   "cell_type": "code",
   "execution_count": 4,
   "id": "c14dbb07",
   "metadata": {
    "ExecuteTime": {
     "end_time": "2024-07-02T15:08:15.061512Z",
     "start_time": "2024-07-02T15:08:14.813132Z"
    },
    "code_folding": []
   },
   "outputs": [],
   "source": [
    "from docx import Document\n",
    "\n",
    "def read_docx(file_path):\n",
    "    doc = Document(file_path)\n",
    "\n",
    "    content = \"\"\n",
    "\n",
    "    for paragraph in doc.paragraphs:\n",
    "        content += paragraph.text + \"\\n\"\n",
    "\n",
    "    return content"
   ]
  },
  {
   "cell_type": "code",
   "execution_count": 5,
   "id": "748dfe07",
   "metadata": {
    "ExecuteTime": {
     "end_time": "2024-07-02T15:08:15.631600Z",
     "start_time": "2024-07-02T15:08:15.594544Z"
    }
   },
   "outputs": [],
   "source": [
    "file_content = read_docx(\"D:\\Ds\\projects\\excelR nlp\\P-344 Dataset\\Resumes_Docx\\React Developer\\React Dev_Krishna Kanth.docx\")"
   ]
  },
  {
   "cell_type": "code",
   "execution_count": 6,
   "id": "26f4b10b",
   "metadata": {
    "ExecuteTime": {
     "end_time": "2024-07-02T15:08:16.192408Z",
     "start_time": "2024-07-02T15:08:16.182931Z"
    }
   },
   "outputs": [
    {
     "data": {
      "text/plain": [
       "'\\nUi-Developer/ React JS Developer \\nNAME: KRISHNA \\nPROFESSIONAL SUMMARY:\\nOver all 3.2 years of Extensive experience as a\\xa0React JS/Web-\\xa0Developer\\xa0and 1 year\\xa0of Experience as\\xa0React JS Software Developer.\\nExtensive experience in developing web pages using\\xa0HTML, XML, CSS, JavaScript, React JS, Redux, JSON.\\nExperience in all phase of\\xa0SDLC\\xa0like\\xa0Requirement Analysis, Implementation\\xa0and\\xa0Maintenance,\\xa0and extensive experience with\\xa0Agile\\xa0and\\xa0SCRUM.\\nExtensive knowledge in developing single - page applications\\xa0(SPAs).\\nGood Expertise in analyzing the\\xa0Document Object Model (DOM) Layout, DOM Functions, and Java Script functions, Cascading Styles\\xa0across cross-browser using\\xa0Fire Bug,\\xa0Developer Tool Bar.\\nExpertise in\\xa0React JS\\xa0framework to develop the\\xa0SPA.\\nExperienced in\\xa0React JS\\xa0and working with\\xa0React Flux architecture.\\nExperienced in working with\\xa0redux architecture\\xa0using complex Object-Oriented concepts in improving the performance of the websites.\\nExperience in using\\xa0React JS components, Forms, Events, Keys, Router, plus Redux, Animations.\\nExpertise in video coding by using\\xa0HTML5,\\xa0CSS3\\xa0and\\xa0JavaScript.\\nExpertise in\\xa0RESTful,\\xa0SOAP\\xa0web services to integrate between\\xa0Application\\xa0to\\xa0Application\\nExperience with\\xa0front-end development\\xa0with\\xa0back-end system integration.\\nTECHNICAL SKILLS:\\nWeb Technologies:\\xa0HTML, CSS3, XML, JavaScript, JSON, React JS, Node.js, GitHub.\\n\\nQUALIFICATION:\\nB-Tech from JNTU-Kakinada University - 2016\\nPROFESSIONAL EXPERIENCE:\\nI have experience as React JS Developer with 3.2 years of experience in the IT Industry and currently working in BOSCH.\\nCurrent Project: AGSP (Auto Guar age Solution Project)\\nRole: UI Developer/ React JS Developer\\nResponsibilities:\\nDesign, develop and test\\xa0HTML5,\\xa0CSS3,\\xa0Bootstrap,\\xa0JavaScript\\xa0and\\xa0React.JS\\xa0that meets accessibility and web browser standards for website.\\nDeveloped user interface by using the\\xa0React JS, Flux\\xa0for\\xa0SPA\\xa0development.\\xa0\\nUsed React-Router to turn application into\\xa0Single Page Application\\nWorked in using\\xa0React JS components, Forms, Events, Keys, Router, Animations and Flux concept.\\nUsed\\xa0React flux\\xa0to polish the data and for single directional flow.\\nUsed\\xa0Object Oriented Programming\\xa0concepts to develop\\xa0UI\\xa0components that could be reused across the\\xa0Web Application.\\nExtensively used\\xa0Git\\xa0for version controlling and regularly pushed the code to\\xa0GitHub.\\nUsed\\xa0JIRA\\xa0as the bug tracking system to track and maintain the history of\\xa0bugs/issues\\xa0on everyday basis.\\n Environment: HTML5, CSS3, JavaScript, Bootstrap, React JS, Redux, JSON, Git hub, JIRA\\nPrevious Project:  SITE WORK PROJECT\\nRole: UI Developer/ React JS Developer\\nResponsibilities:\\nWorked on an\\xa0Agile\\xa0(Scrum)\\xa0Development\\xa0Team\\xa0to deliver regular updates to business team and project managers.\\nInvolved designing in web pages using\\xa0HTML\\xa05,\\xa0CSS3,\\xa0JavaScript, Bootstrap, React.js,\\xa0Redux\\xa0, \\nWorked on\\xa0React JS Virtual Dom\\xa0and\\xa0React views, rendering using components which contains additional components called custom\\xa0HTML tags.\\nImplemented various screens for the front end using\\xa0React.js\\xa0and used various predefined\\xa0components\\xa0from\\xa0NPM (Node Package Manager)\\xa0and\\xa0redux library.\\nWorked in using\\xa0React JS components, Forms, Events, Keys, Router, Animations,\\xa0and\\xa0Flux concept.\\nResponsible for\\xa0React\\xa0UI\\xa0and\\xa0architecture.\\xa0Building\\xa0components\\xa0library,\\xa0including\\xa0Tree,\\xa0Slide-View,\\xa0and Table Grid.\\nImplemented stable\\xa0React\\xa0components\\xa0and\\xa0stand-alone functions\\xa0to be added to any future pages.\\nUsed\\xa0React JS\\xa0for\\xa0tinplating\\xa0for faster compilation and developing reusable\\xa0components.\\nUsed\\xa0React-Auto complete\\xa0for creating\\xa0Google maps\\xa0location search on the webpage.\\xa0 Environment:\\xa0HTML5, CSS3, Bootstrap, GitHub and Jenkins.\\n\\n'"
      ]
     },
     "execution_count": 6,
     "metadata": {},
     "output_type": "execute_result"
    }
   ],
   "source": [
    "file_content"
   ]
  },
  {
   "cell_type": "code",
   "execution_count": 7,
   "id": "e1c9dab9",
   "metadata": {
    "ExecuteTime": {
     "end_time": "2024-07-02T15:08:20.113953Z",
     "start_time": "2024-07-02T15:08:16.739152Z"
    }
   },
   "outputs": [
    {
     "name": "stderr",
     "output_type": "stream",
     "text": [
      "[nltk_data] Downloading package stopwords to\n",
      "[nltk_data]     C:\\Users\\shrey\\AppData\\Roaming\\nltk_data...\n",
      "[nltk_data]   Package stopwords is already up-to-date!\n",
      "[nltk_data] Downloading package punkt to\n",
      "[nltk_data]     C:\\Users\\shrey\\AppData\\Roaming\\nltk_data...\n",
      "[nltk_data]   Package punkt is already up-to-date!\n"
     ]
    }
   ],
   "source": [
    "import numpy as np\n",
    "import pandas as pd\n",
    "import os\n",
    "from sklearn.feature_extraction.text import CountVectorizer\n",
    "from sklearn.naive_bayes import MultinomialNB\n",
    "import pickle\n",
    "import string\n",
    "import regex as re\n",
    "import streamlit as st \n",
    "import pickle\n",
    "from collections import Counter\n",
    "from docx import Document\n",
    "import nltk \n",
    "nltk.download('stopwords')\n",
    "nltk.download('punkt')\n",
    "from nltk.corpus import stopwords\n",
    "\n",
    "stop_words = set(stopwords.words('english'))"
   ]
  },
  {
   "cell_type": "code",
   "execution_count": 10,
   "id": "812ac7a5",
   "metadata": {
    "ExecuteTime": {
     "end_time": "2024-07-02T15:08:26.833322Z",
     "start_time": "2024-07-02T15:08:26.826998Z"
    }
   },
   "outputs": [],
   "source": [
    "def preprocess(text):\n",
    "    if text.startswith(\"b'\"):\n",
    "        text = text[2:]\n",
    "    cleaned_text = re.sub(r'[\\n\\t]', ' ', text)\n",
    "    cleaned_text = cleaned_text.replace('\\x07', '')\n",
    "    cleaned_text = re.sub(r'(\\\\n|\\\\t|\\\\x07|\\\\\\\\)', ' ', cleaned_text)\n",
    "    cleaned_text = re.sub(r'\\'b\\'|\\'\"', '', cleaned_text)\n",
    "    cleaned_text = re.sub(r'(\\\\x[0-9a-fA-F]{2}|\\\\xc7\\\\x81|\\\\xe2\\\\x80\\\\x99)', '', cleaned_text)\n",
    "    cleaned_text = re.sub(r'[\\uf0b7/]', ' ', cleaned_text)\n",
    "    cleaned_text = cleaned_text.translate(str.maketrans('', '', string.punctuation))\n",
    "    tokens = nltk.word_tokenize(cleaned_text)  # Tokenize the text\n",
    "    filtered_tokens = [token.lower() for token in tokens if token.lower() not in stop_words]\n",
    "    filtered_text = ' '.join(filtered_tokens)\n",
    "\n",
    "    return filtered_text"
   ]
  },
  {
   "cell_type": "code",
   "execution_count": 11,
   "id": "3332c02a",
   "metadata": {
    "ExecuteTime": {
     "end_time": "2024-07-02T15:08:27.352342Z",
     "start_time": "2024-07-02T15:08:27.346915Z"
    },
    "scrolled": true
   },
   "outputs": [],
   "source": [
    "content = []\n",
    "\n",
    "content.append(file_content)\n",
    "df = pd.DataFrame(data={\"content\": content})"
   ]
  },
  {
   "cell_type": "code",
   "execution_count": 12,
   "id": "1205d2e2",
   "metadata": {
    "ExecuteTime": {
     "end_time": "2024-07-02T15:08:27.855497Z",
     "start_time": "2024-07-02T15:08:27.831166Z"
    }
   },
   "outputs": [],
   "source": [
    "df[\"clean\"] = df[\"content\"].apply(preprocess)"
   ]
  },
  {
   "cell_type": "code",
   "execution_count": 13,
   "id": "646937e5",
   "metadata": {
    "ExecuteTime": {
     "end_time": "2024-07-02T15:08:28.896171Z",
     "start_time": "2024-07-02T15:08:28.857456Z"
    }
   },
   "outputs": [
    {
     "data": {
      "text/plain": [
       "array([1])"
      ]
     },
     "execution_count": 13,
     "metadata": {},
     "output_type": "execute_result"
    }
   ],
   "source": [
    "mod.predict(df[\"content\"])"
   ]
  },
  {
   "cell_type": "code",
   "execution_count": 5,
   "id": "4b588811",
   "metadata": {
    "ExecuteTime": {
     "end_time": "2024-07-02T15:21:28.023658Z",
     "start_time": "2024-07-02T15:21:27.992618Z"
    }
   },
   "outputs": [
    {
     "name": "stdout",
     "output_type": "stream",
     "text": [
      "1.5.0\n"
     ]
    }
   ],
   "source": [
    "import sklearn\n",
    "print(sklearn.__version__)"
   ]
  },
  {
   "cell_type": "code",
   "execution_count": 2,
   "id": "554811e4",
   "metadata": {
    "ExecuteTime": {
     "end_time": "2024-07-02T15:12:25.066954Z",
     "start_time": "2024-07-02T15:12:25.062779Z"
    }
   },
   "outputs": [
    {
     "name": "stdout",
     "output_type": "stream",
     "text": [
      "3.11.5 | packaged by Anaconda, Inc. | (main, Sep 11 2023, 13:26:23) [MSC v.1916 64 bit (AMD64)]\n"
     ]
    }
   ],
   "source": [
    "import sys\n",
    "print(sys.version)\n"
   ]
  },
  {
   "cell_type": "code",
   "execution_count": 3,
   "id": "2d33ae0f",
   "metadata": {
    "ExecuteTime": {
     "end_time": "2024-07-02T15:12:27.090490Z",
     "start_time": "2024-07-02T15:12:26.089061Z"
    }
   },
   "outputs": [
    {
     "name": "stdout",
     "output_type": "stream",
     "text": [
      "2.2.2\n",
      "1.24.3\n"
     ]
    }
   ],
   "source": [
    "import pandas \n",
    "print(pandas.__version__)\n",
    "import numpy \n",
    "print(numpy.__version__)"
   ]
  },
  {
   "cell_type": "code",
   "execution_count": 17,
   "id": "dbb32a47",
   "metadata": {
    "ExecuteTime": {
     "end_time": "2024-07-02T15:10:43.507840Z",
     "start_time": "2024-07-02T15:09:47.541133Z"
    }
   },
   "outputs": [
    {
     "name": "stdout",
     "output_type": "stream",
     "text": [
      "Requirement already satisfied: scikit-learn in c:\\users\\shrey\\appdata\\local\\anaconda3\\lib\\site-packages (1.3.0)\n",
      "Collecting scikit-learn\n",
      "  Downloading scikit_learn-1.5.0-cp311-cp311-win_amd64.whl.metadata (11 kB)\n",
      "Requirement already satisfied: numpy>=1.19.5 in c:\\users\\shrey\\appdata\\local\\anaconda3\\lib\\site-packages (from scikit-learn) (1.24.3)\n",
      "Requirement already satisfied: scipy>=1.6.0 in c:\\users\\shrey\\appdata\\local\\anaconda3\\lib\\site-packages (from scikit-learn) (1.11.1)\n",
      "Requirement already satisfied: joblib>=1.2.0 in c:\\users\\shrey\\appdata\\local\\anaconda3\\lib\\site-packages (from scikit-learn) (1.2.0)\n",
      "Collecting threadpoolctl>=3.1.0 (from scikit-learn)\n",
      "  Using cached threadpoolctl-3.5.0-py3-none-any.whl.metadata (13 kB)\n",
      "Downloading scikit_learn-1.5.0-cp311-cp311-win_amd64.whl (11.0 MB)\n",
      "   ---------------------------------------- 0.0/11.0 MB ? eta -:--:--\n",
      "   ---------------------------------------- 0.0/11.0 MB ? eta -:--:--\n",
      "   ---------------------------------------- 0.0/11.0 MB 435.7 kB/s eta 0:00:26\n",
      "   ---------------------------------------- 0.1/11.0 MB 657.6 kB/s eta 0:00:17\n",
      "    --------------------------------------- 0.3/11.0 MB 1.6 MB/s eta 0:00:07\n",
      "   - -------------------------------------- 0.4/11.0 MB 2.2 MB/s eta 0:00:05\n",
      "   - -------------------------------------- 0.4/11.0 MB 2.2 MB/s eta 0:00:05\n",
      "   -- ------------------------------------- 0.6/11.0 MB 1.9 MB/s eta 0:00:06\n",
      "   -- ------------------------------------- 0.7/11.0 MB 2.0 MB/s eta 0:00:06\n",
      "   -- ------------------------------------- 0.7/11.0 MB 2.0 MB/s eta 0:00:06\n",
      "   --- ------------------------------------ 0.8/11.0 MB 1.9 MB/s eta 0:00:06\n",
      "   --- ------------------------------------ 1.0/11.0 MB 2.0 MB/s eta 0:00:06\n",
      "   --- ------------------------------------ 1.0/11.0 MB 1.8 MB/s eta 0:00:06\n",
      "   --- ------------------------------------ 1.1/11.0 MB 1.8 MB/s eta 0:00:06\n",
      "   ---- ----------------------------------- 1.3/11.0 MB 1.9 MB/s eta 0:00:06\n",
      "   ----- ---------------------------------- 1.4/11.0 MB 1.9 MB/s eta 0:00:05\n",
      "   ----- ---------------------------------- 1.5/11.0 MB 1.9 MB/s eta 0:00:05\n",
      "   ----- ---------------------------------- 1.6/11.0 MB 1.9 MB/s eta 0:00:05\n",
      "   ------ --------------------------------- 1.7/11.0 MB 1.9 MB/s eta 0:00:05\n",
      "   ------ --------------------------------- 1.8/11.0 MB 1.9 MB/s eta 0:00:05\n",
      "   ------ --------------------------------- 1.8/11.0 MB 1.9 MB/s eta 0:00:05\n",
      "   ------- -------------------------------- 1.9/11.0 MB 1.9 MB/s eta 0:00:05\n",
      "   ------- -------------------------------- 2.0/11.0 MB 1.9 MB/s eta 0:00:05\n",
      "   ------- -------------------------------- 2.1/11.0 MB 1.8 MB/s eta 0:00:05\n",
      "   ------- -------------------------------- 2.1/11.0 MB 1.8 MB/s eta 0:00:05\n",
      "   -------- ------------------------------- 2.2/11.0 MB 1.8 MB/s eta 0:00:05\n",
      "   -------- ------------------------------- 2.3/11.0 MB 1.8 MB/s eta 0:00:05\n",
      "   -------- ------------------------------- 2.4/11.0 MB 1.8 MB/s eta 0:00:05\n",
      "   --------- ------------------------------ 2.5/11.0 MB 1.8 MB/s eta 0:00:05\n",
      "   --------- ------------------------------ 2.6/11.0 MB 1.8 MB/s eta 0:00:05\n",
      "   --------- ------------------------------ 2.7/11.0 MB 1.8 MB/s eta 0:00:05\n",
      "   ---------- ----------------------------- 2.8/11.0 MB 1.9 MB/s eta 0:00:05\n",
      "   ---------- ----------------------------- 2.9/11.0 MB 1.9 MB/s eta 0:00:05\n",
      "   ---------- ----------------------------- 3.0/11.0 MB 1.9 MB/s eta 0:00:05\n",
      "   ----------- ---------------------------- 3.1/11.0 MB 1.9 MB/s eta 0:00:05\n",
      "   ----------- ---------------------------- 3.2/11.0 MB 1.9 MB/s eta 0:00:05\n",
      "   ----------- ---------------------------- 3.3/11.0 MB 1.9 MB/s eta 0:00:05\n",
      "   ------------ --------------------------- 3.4/11.0 MB 1.9 MB/s eta 0:00:05\n",
      "   ------------ --------------------------- 3.5/11.0 MB 1.9 MB/s eta 0:00:04\n",
      "   ------------- -------------------------- 3.6/11.0 MB 1.9 MB/s eta 0:00:04\n",
      "   ------------- -------------------------- 3.7/11.0 MB 1.9 MB/s eta 0:00:04\n",
      "   ------------- -------------------------- 3.7/11.0 MB 1.9 MB/s eta 0:00:04\n",
      "   ------------- -------------------------- 3.8/11.0 MB 1.9 MB/s eta 0:00:04\n",
      "   -------------- ------------------------- 3.9/11.0 MB 1.9 MB/s eta 0:00:04\n",
      "   -------------- ------------------------- 4.0/11.0 MB 1.9 MB/s eta 0:00:04\n",
      "   -------------- ------------------------- 4.1/11.0 MB 1.9 MB/s eta 0:00:04\n",
      "   --------------- ------------------------ 4.2/11.0 MB 1.9 MB/s eta 0:00:04\n",
      "   --------------- ------------------------ 4.3/11.0 MB 1.9 MB/s eta 0:00:04\n",
      "   --------------- ------------------------ 4.4/11.0 MB 1.9 MB/s eta 0:00:04\n",
      "   ---------------- ----------------------- 4.5/11.0 MB 1.9 MB/s eta 0:00:04\n",
      "   ---------------- ----------------------- 4.5/11.0 MB 1.9 MB/s eta 0:00:04\n",
      "   ---------------- ----------------------- 4.5/11.0 MB 1.9 MB/s eta 0:00:04\n",
      "   ---------------- ----------------------- 4.5/11.0 MB 1.9 MB/s eta 0:00:04\n",
      "   ---------------- ----------------------- 4.6/11.0 MB 1.8 MB/s eta 0:00:04\n",
      "   ---------------- ----------------------- 4.6/11.0 MB 1.8 MB/s eta 0:00:04\n",
      "   ---------------- ----------------------- 4.6/11.0 MB 1.7 MB/s eta 0:00:04\n",
      "   ----------------- ---------------------- 4.7/11.0 MB 1.7 MB/s eta 0:00:04\n",
      "   ----------------- ---------------------- 4.8/11.0 MB 1.7 MB/s eta 0:00:04\n",
      "   ----------------- ---------------------- 4.9/11.0 MB 1.7 MB/s eta 0:00:04\n",
      "   ------------------ --------------------- 5.0/11.0 MB 1.7 MB/s eta 0:00:04\n",
      "   ------------------ --------------------- 5.0/11.0 MB 1.7 MB/s eta 0:00:04\n",
      "   ------------------ --------------------- 5.1/11.0 MB 1.7 MB/s eta 0:00:04\n",
      "   ------------------ --------------------- 5.2/11.0 MB 1.7 MB/s eta 0:00:04\n",
      "   ------------------- -------------------- 5.3/11.0 MB 1.7 MB/s eta 0:00:04\n",
      "   ------------------- -------------------- 5.4/11.0 MB 1.7 MB/s eta 0:00:04\n",
      "   ------------------- -------------------- 5.4/11.0 MB 1.7 MB/s eta 0:00:04\n",
      "   -------------------- ------------------- 5.6/11.0 MB 1.7 MB/s eta 0:00:04\n",
      "   -------------------- ------------------- 5.7/11.0 MB 1.7 MB/s eta 0:00:04\n",
      "   --------------------- ------------------ 5.8/11.0 MB 1.7 MB/s eta 0:00:04\n",
      "   --------------------- ------------------ 5.9/11.0 MB 1.7 MB/s eta 0:00:03\n",
      "   --------------------- ------------------ 5.9/11.0 MB 1.7 MB/s eta 0:00:03\n",
      "   --------------------- ------------------ 6.0/11.0 MB 1.7 MB/s eta 0:00:03\n",
      "   --------------------- ------------------ 6.0/11.0 MB 1.7 MB/s eta 0:00:03\n",
      "   ---------------------- ----------------- 6.1/11.0 MB 1.7 MB/s eta 0:00:03\n",
      "   ---------------------- ----------------- 6.1/11.0 MB 1.7 MB/s eta 0:00:03\n",
      "   ---------------------- ----------------- 6.2/11.0 MB 1.7 MB/s eta 0:00:03\n",
      "   ---------------------- ----------------- 6.2/11.0 MB 1.7 MB/s eta 0:00:03\n",
      "   ---------------------- ----------------- 6.2/11.0 MB 1.6 MB/s eta 0:00:03\n",
      "   ---------------------- ----------------- 6.3/11.0 MB 1.6 MB/s eta 0:00:03\n",
      "   ---------------------- ----------------- 6.3/11.0 MB 1.6 MB/s eta 0:00:03\n",
      "   ----------------------- ---------------- 6.3/11.0 MB 1.6 MB/s eta 0:00:03\n",
      "   ----------------------- ---------------- 6.3/11.0 MB 1.6 MB/s eta 0:00:03\n",
      "   ----------------------- ---------------- 6.3/11.0 MB 1.6 MB/s eta 0:00:03\n",
      "   ----------------------- ---------------- 6.3/11.0 MB 1.6 MB/s eta 0:00:03\n",
      "   ----------------------- ---------------- 6.4/11.0 MB 1.5 MB/s eta 0:00:03\n",
      "   ----------------------- ---------------- 6.4/11.0 MB 1.5 MB/s eta 0:00:03\n",
      "   ----------------------- ---------------- 6.4/11.0 MB 1.5 MB/s eta 0:00:03\n",
      "   ----------------------- ---------------- 6.5/11.0 MB 1.5 MB/s eta 0:00:03\n",
      "   ----------------------- ---------------- 6.5/11.0 MB 1.5 MB/s eta 0:00:03\n",
      "   ----------------------- ---------------- 6.5/11.0 MB 1.5 MB/s eta 0:00:03\n",
      "   ----------------------- ---------------- 6.6/11.0 MB 1.5 MB/s eta 0:00:03\n",
      "   ------------------------ --------------- 6.6/11.0 MB 1.5 MB/s eta 0:00:03\n",
      "   ------------------------ --------------- 6.6/11.0 MB 1.5 MB/s eta 0:00:03\n",
      "   ------------------------ --------------- 6.7/11.0 MB 1.5 MB/s eta 0:00:03\n",
      "   ------------------------ --------------- 6.7/11.0 MB 1.5 MB/s eta 0:00:03\n",
      "   ------------------------ --------------- 6.7/11.0 MB 1.4 MB/s eta 0:00:03\n",
      "   ------------------------ --------------- 6.7/11.0 MB 1.4 MB/s eta 0:00:03\n",
      "   ------------------------ --------------- 6.7/11.0 MB 1.4 MB/s eta 0:00:03\n",
      "   ------------------------ --------------- 6.7/11.0 MB 1.4 MB/s eta 0:00:03\n",
      "   ------------------------ --------------- 6.8/11.0 MB 1.4 MB/s eta 0:00:03\n",
      "   ------------------------ --------------- 6.8/11.0 MB 1.4 MB/s eta 0:00:03\n",
      "   ------------------------ --------------- 6.8/11.0 MB 1.4 MB/s eta 0:00:04\n",
      "   ------------------------ --------------- 6.8/11.0 MB 1.4 MB/s eta 0:00:04\n",
      "   ------------------------ --------------- 6.8/11.0 MB 1.4 MB/s eta 0:00:04\n",
      "   ------------------------ --------------- 6.8/11.0 MB 1.3 MB/s eta 0:00:04\n",
      "   ------------------------ --------------- 6.9/11.0 MB 1.3 MB/s eta 0:00:04\n",
      "   ------------------------- -------------- 6.9/11.0 MB 1.3 MB/s eta 0:00:04\n",
      "   ------------------------- -------------- 6.9/11.0 MB 1.3 MB/s eta 0:00:04\n",
      "   ------------------------- -------------- 6.9/11.0 MB 1.3 MB/s eta 0:00:04\n",
      "   ------------------------- -------------- 6.9/11.0 MB 1.3 MB/s eta 0:00:04\n",
      "   ------------------------- -------------- 6.9/11.0 MB 1.3 MB/s eta 0:00:04\n",
      "   ------------------------- -------------- 7.0/11.0 MB 1.3 MB/s eta 0:00:04\n",
      "   ------------------------- -------------- 7.0/11.0 MB 1.3 MB/s eta 0:00:04\n",
      "   ------------------------- -------------- 7.0/11.0 MB 1.3 MB/s eta 0:00:04\n",
      "   ------------------------- -------------- 7.0/11.0 MB 1.3 MB/s eta 0:00:04\n",
      "   ------------------------- -------------- 7.1/11.0 MB 1.3 MB/s eta 0:00:04\n",
      "   ------------------------- -------------- 7.1/11.0 MB 1.3 MB/s eta 0:00:04\n",
      "   ------------------------- -------------- 7.1/11.0 MB 1.2 MB/s eta 0:00:04\n",
      "   ------------------------- -------------- 7.1/11.0 MB 1.2 MB/s eta 0:00:04\n",
      "   -------------------------- ------------- 7.1/11.0 MB 1.2 MB/s eta 0:00:04\n",
      "   -------------------------- ------------- 7.2/11.0 MB 1.2 MB/s eta 0:00:04\n",
      "   -------------------------- ------------- 7.2/11.0 MB 1.2 MB/s eta 0:00:04\n",
      "   -------------------------- ------------- 7.2/11.0 MB 1.2 MB/s eta 0:00:04\n",
      "   -------------------------- ------------- 7.2/11.0 MB 1.2 MB/s eta 0:00:04\n",
      "   -------------------------- ------------- 7.2/11.0 MB 1.2 MB/s eta 0:00:04\n",
      "   -------------------------- ------------- 7.2/11.0 MB 1.2 MB/s eta 0:00:04\n",
      "   -------------------------- ------------- 7.2/11.0 MB 1.2 MB/s eta 0:00:04\n",
      "   -------------------------- ------------- 7.2/11.0 MB 1.2 MB/s eta 0:00:04\n",
      "   -------------------------- ------------- 7.2/11.0 MB 1.2 MB/s eta 0:00:04\n",
      "   -------------------------- ------------- 7.2/11.0 MB 1.2 MB/s eta 0:00:04\n",
      "   -------------------------- ------------- 7.3/11.0 MB 1.1 MB/s eta 0:00:04\n",
      "   -------------------------- ------------- 7.3/11.0 MB 1.1 MB/s eta 0:00:04\n",
      "   -------------------------- ------------- 7.3/11.0 MB 1.1 MB/s eta 0:00:04\n",
      "   -------------------------- ------------- 7.3/11.0 MB 1.1 MB/s eta 0:00:04\n",
      "   -------------------------- ------------- 7.3/11.0 MB 1.1 MB/s eta 0:00:04\n",
      "   -------------------------- ------------- 7.3/11.0 MB 1.1 MB/s eta 0:00:04\n",
      "   -------------------------- ------------- 7.4/11.0 MB 1.1 MB/s eta 0:00:04\n",
      "   -------------------------- ------------- 7.4/11.0 MB 1.1 MB/s eta 0:00:04\n",
      "   --------------------------- ------------ 7.4/11.0 MB 1.1 MB/s eta 0:00:04\n",
      "   --------------------------- ------------ 7.4/11.0 MB 1.1 MB/s eta 0:00:04\n",
      "   --------------------------- ------------ 7.5/11.0 MB 1.1 MB/s eta 0:00:04\n",
      "   --------------------------- ------------ 7.5/11.0 MB 1.1 MB/s eta 0:00:04\n",
      "   --------------------------- ------------ 7.6/11.0 MB 1.1 MB/s eta 0:00:04\n",
      "   --------------------------- ------------ 7.6/11.0 MB 1.1 MB/s eta 0:00:04\n",
      "   --------------------------- ------------ 7.7/11.0 MB 1.1 MB/s eta 0:00:04\n",
      "   ---------------------------- ----------- 7.7/11.0 MB 1.1 MB/s eta 0:00:04\n",
      "   ---------------------------- ----------- 7.8/11.0 MB 1.1 MB/s eta 0:00:03\n",
      "   ---------------------------- ----------- 7.8/11.0 MB 1.1 MB/s eta 0:00:03\n",
      "   ---------------------------- ----------- 7.9/11.0 MB 1.1 MB/s eta 0:00:03\n",
      "   ---------------------------- ----------- 7.9/11.0 MB 1.1 MB/s eta 0:00:03\n",
      "   ---------------------------- ----------- 7.9/11.0 MB 1.1 MB/s eta 0:00:03\n",
      "   ----------------------------- ---------- 8.0/11.0 MB 1.1 MB/s eta 0:00:03\n",
      "   ----------------------------- ---------- 8.1/11.0 MB 1.1 MB/s eta 0:00:03\n",
      "   ----------------------------- ---------- 8.1/11.0 MB 1.1 MB/s eta 0:00:03\n",
      "   ----------------------------- ---------- 8.2/11.0 MB 1.1 MB/s eta 0:00:03\n",
      "   ------------------------------ --------- 8.3/11.0 MB 1.1 MB/s eta 0:00:03\n",
      "   ------------------------------ --------- 8.3/11.0 MB 1.1 MB/s eta 0:00:03\n",
      "   ------------------------------ --------- 8.4/11.0 MB 1.1 MB/s eta 0:00:03\n",
      "   ------------------------------ --------- 8.5/11.0 MB 1.1 MB/s eta 0:00:03\n",
      "   ------------------------------- -------- 8.6/11.0 MB 1.1 MB/s eta 0:00:03\n",
      "   ------------------------------- -------- 8.7/11.0 MB 1.1 MB/s eta 0:00:03\n",
      "   ------------------------------- -------- 8.8/11.0 MB 1.1 MB/s eta 0:00:03\n",
      "   -------------------------------- ------- 8.8/11.0 MB 1.1 MB/s eta 0:00:02\n",
      "   -------------------------------- ------- 8.9/11.0 MB 1.1 MB/s eta 0:00:02\n",
      "   -------------------------------- ------- 9.0/11.0 MB 1.1 MB/s eta 0:00:02\n",
      "   --------------------------------- ------ 9.1/11.0 MB 1.1 MB/s eta 0:00:02\n",
      "   --------------------------------- ------ 9.1/11.0 MB 1.1 MB/s eta 0:00:02\n",
      "   --------------------------------- ------ 9.2/11.0 MB 1.1 MB/s eta 0:00:02\n",
      "   ---------------------------------- ----- 9.3/11.0 MB 1.1 MB/s eta 0:00:02\n",
      "   ---------------------------------- ----- 9.4/11.0 MB 1.1 MB/s eta 0:00:02\n",
      "   ---------------------------------- ----- 9.6/11.0 MB 1.1 MB/s eta 0:00:02\n",
      "   ----------------------------------- ---- 9.7/11.0 MB 1.1 MB/s eta 0:00:02\n",
      "   ----------------------------------- ---- 9.8/11.0 MB 1.2 MB/s eta 0:00:02\n",
      "   ------------------------------------ --- 9.9/11.0 MB 1.2 MB/s eta 0:00:01\n",
      "   ------------------------------------ --- 10.0/11.0 MB 1.2 MB/s eta 0:00:01\n",
      "   ------------------------------------ --- 10.1/11.0 MB 1.2 MB/s eta 0:00:01\n",
      "   ------------------------------------- -- 10.2/11.0 MB 1.2 MB/s eta 0:00:01\n",
      "   ------------------------------------- -- 10.3/11.0 MB 1.2 MB/s eta 0:00:01\n",
      "   ------------------------------------- -- 10.4/11.0 MB 1.2 MB/s eta 0:00:01\n",
      "   ------------------------------------- -- 10.4/11.0 MB 1.2 MB/s eta 0:00:01\n",
      "   ------------------------------------- -- 10.4/11.0 MB 1.2 MB/s eta 0:00:01\n",
      "   ------------------------------------- -- 10.4/11.0 MB 1.2 MB/s eta 0:00:01\n",
      "   -------------------------------------- - 10.5/11.0 MB 1.2 MB/s eta 0:00:01\n",
      "   -------------------------------------- - 10.6/11.0 MB 1.2 MB/s eta 0:00:01\n",
      "   -------------------------------------- - 10.7/11.0 MB 1.2 MB/s eta 0:00:01\n",
      "   ---------------------------------------  10.8/11.0 MB 1.2 MB/s eta 0:00:01\n",
      "   ---------------------------------------  10.8/11.0 MB 1.2 MB/s eta 0:00:01\n",
      "   ---------------------------------------  10.8/11.0 MB 1.1 MB/s eta 0:00:01\n",
      "   ---------------------------------------  10.9/11.0 MB 1.1 MB/s eta 0:00:01\n",
      "   ---------------------------------------  10.9/11.0 MB 1.1 MB/s eta 0:00:01\n",
      "   ---------------------------------------  11.0/11.0 MB 1.1 MB/s eta 0:00:01\n",
      "   ---------------------------------------  11.0/11.0 MB 1.1 MB/s eta 0:00:01\n",
      "   ---------------------------------------  11.0/11.0 MB 1.1 MB/s eta 0:00:01\n",
      "   ---------------------------------------  11.0/11.0 MB 1.1 MB/s eta 0:00:01\n",
      "   ---------------------------------------  11.0/11.0 MB 1.1 MB/s eta 0:00:01\n",
      "   ---------------------------------------  11.0/11.0 MB 1.1 MB/s eta 0:00:01\n",
      "   ---------------------------------------  11.0/11.0 MB 1.1 MB/s eta 0:00:01\n",
      "   ---------------------------------------  11.0/11.0 MB 1.1 MB/s eta 0:00:01\n",
      "   ---------------------------------------  11.0/11.0 MB 1.1 MB/s eta 0:00:01\n",
      "   ---------------------------------------  11.0/11.0 MB 1.1 MB/s eta 0:00:01\n",
      "   ---------------------------------------  11.0/11.0 MB 1.1 MB/s eta 0:00:01\n",
      "   ---------------------------------------  11.0/11.0 MB 1.1 MB/s eta 0:00:01\n",
      "   ---------------------------------------  11.0/11.0 MB 1.1 MB/s eta 0:00:01\n",
      "   ---------------------------------------  11.0/11.0 MB 1.1 MB/s eta 0:00:01\n",
      "   ---------------------------------------  11.0/11.0 MB 1.1 MB/s eta 0:00:01\n",
      "   ---------------------------------------  11.0/11.0 MB 1.1 MB/s eta 0:00:01\n",
      "   ---------------------------------------  11.0/11.0 MB 1.1 MB/s eta 0:00:01\n",
      "   ---------------------------------------  11.0/11.0 MB 1.1 MB/s eta 0:00:01\n",
      "   ---------------------------------------- 11.0/11.0 MB 1.0 MB/s eta 0:00:00\n",
      "Using cached threadpoolctl-3.5.0-py3-none-any.whl (18 kB)\n",
      "Installing collected packages: threadpoolctl, scikit-learn\n",
      "  Attempting uninstall: threadpoolctl\n",
      "    Found existing installation: threadpoolctl 2.2.0\n",
      "    Uninstalling threadpoolctl-2.2.0:\n",
      "      Successfully uninstalled threadpoolctl-2.2.0\n",
      "  Attempting uninstall: scikit-learn\n",
      "    Found existing installation: scikit-learn 1.3.0\n",
      "    Uninstalling scikit-learn-1.3.0:\n",
      "      Successfully uninstalled scikit-learn-1.3.0\n",
      "Successfully installed scikit-learn-1.5.0 threadpoolctl-3.5.0\n",
      "Note: you may need to restart the kernel to use updated packages.\n"
     ]
    },
    {
     "name": "stderr",
     "output_type": "stream",
     "text": [
      "DEPRECATION: Loading egg at c:\\users\\shrey\\appdata\\local\\anaconda3\\lib\\site-packages\\powergeneration-0.0.1-py3.11.egg is deprecated. pip 24.3 will enforce this behaviour change. A possible replacement is to use pip for package installation.. Discussion can be found at https://github.com/pypa/pip/issues/12330\n",
      "DEPRECATION: Loading egg at c:\\users\\shrey\\appdata\\local\\anaconda3\\lib\\site-packages\\power_generation-0.0.1-py3.11.egg is deprecated. pip 24.3 will enforce this behaviour change. A possible replacement is to use pip for package installation.. Discussion can be found at https://github.com/pypa/pip/issues/12330\n",
      "DEPRECATION: textract 1.6.5 has a non-standard dependency specifier extract-msg<=0.29.*. pip 24.1 will enforce this behaviour change. A possible replacement is to upgrade to a newer version of textract or contact the author to suggest that they release a version with a conforming dependency specifiers. Discussion can be found at https://github.com/pypa/pip/issues/12063\n",
      "  WARNING: Failed to remove contents in a temporary directory 'C:\\Users\\shrey\\AppData\\Local\\anaconda3\\Lib\\site-packages\\~-learn'.\n",
      "  You can safely remove it manually.\n",
      "\n",
      "[notice] A new release of pip is available: 24.0 -> 24.1.1\n",
      "[notice] To update, run: python.exe -m pip install --upgrade pip\n"
     ]
    }
   ],
   "source": [
    "pip install --upgrade scikit-learn\n"
   ]
  },
  {
   "cell_type": "code",
   "execution_count": null,
   "id": "4bcbe7b6",
   "metadata": {},
   "outputs": [],
   "source": []
  }
 ],
 "metadata": {
  "kernelspec": {
   "display_name": "Python 3 (ipykernel)",
   "language": "python",
   "name": "python3"
  },
  "language_info": {
   "codemirror_mode": {
    "name": "ipython",
    "version": 3
   },
   "file_extension": ".py",
   "mimetype": "text/x-python",
   "name": "python",
   "nbconvert_exporter": "python",
   "pygments_lexer": "ipython3",
   "version": "3.11.5"
  },
  "toc": {
   "base_numbering": 1,
   "nav_menu": {},
   "number_sections": true,
   "sideBar": true,
   "skip_h1_title": false,
   "title_cell": "Table of Contents",
   "title_sidebar": "Contents",
   "toc_cell": false,
   "toc_position": {},
   "toc_section_display": true,
   "toc_window_display": false
  },
  "varInspector": {
   "cols": {
    "lenName": 16,
    "lenType": 16,
    "lenVar": 40
   },
   "kernels_config": {
    "python": {
     "delete_cmd_postfix": "",
     "delete_cmd_prefix": "del ",
     "library": "var_list.py",
     "varRefreshCmd": "print(var_dic_list())"
    },
    "r": {
     "delete_cmd_postfix": ") ",
     "delete_cmd_prefix": "rm(",
     "library": "var_list.r",
     "varRefreshCmd": "cat(var_dic_list()) "
    }
   },
   "types_to_exclude": [
    "module",
    "function",
    "builtin_function_or_method",
    "instance",
    "_Feature"
   ],
   "window_display": false
  }
 },
 "nbformat": 4,
 "nbformat_minor": 5
}
